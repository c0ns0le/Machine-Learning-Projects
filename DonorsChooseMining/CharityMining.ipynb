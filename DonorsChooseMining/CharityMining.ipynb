{
 "cells": [
  {
   "cell_type": "code",
   "execution_count": 1,
   "metadata": {
    "collapsed": true
   },
   "outputs": [],
   "source": [
    "from pymongo import MongoClient"
   ]
  },
  {
   "cell_type": "markdown",
   "metadata": {},
   "source": [
    "#### First load the data from the csv file to the mongodb. Name the database donorschoose and the collection as projects.\n",
    "\n",
    "#### Import the csv file into mongodb. First have mongod running in one temrinal, and then in a new terminal enter:\n",
    "mongoimport --db donorschoose --collection projects --type csv --file C:\\Users\\mariamo\\Documents\\iPythonNotebooks\\Projects\\DonorsChooseMining\\opendata_projects.csv --headerline\n",
    "\n",
    "The data from csv file will be stored in the mongodb under C:\\data\\db (which we manually created) under the database name.\n",
    "Our database has only one collection (projects)"
   ]
  },
  {
   "cell_type": "code",
   "execution_count": 2,
   "metadata": {
    "collapsed": true
   },
   "outputs": [],
   "source": [
    "MONGODB_HOST = 'localhost'\n",
    "MONGODB_PORT = 27017\n",
    "DB_NAME = 'donorschoose'\n",
    "COLLECTION_NAME = 'projects'"
   ]
  },
  {
   "cell_type": "code",
   "execution_count": 3,
   "metadata": {
    "collapsed": false
   },
   "outputs": [],
   "source": [
    "FIELDS = {'school_state':1, 'resource_type':1, 'poverty_level':1, 'date_posted':1, 'total_donations':1, '_id':0}"
   ]
  },
  {
   "cell_type": "code",
   "execution_count": 4,
   "metadata": {
    "collapsed": false
   },
   "outputs": [],
   "source": [
    "connection = MongoClient(MONGODB_HOST, MONGODB_PORT)\n",
    "collection = connection[DB_NAME][COLLECTION_NAME]\n",
    "projects = collection.find({},FIELDS)"
   ]
  },
  {
   "cell_type": "code",
   "execution_count": 5,
   "metadata": {
    "collapsed": true
   },
   "outputs": [],
   "source": [
    "# RUN MONGO ON CMD NOW"
   ]
  },
  {
   "cell_type": "code",
   "execution_count": 12,
   "metadata": {
    "collapsed": false
   },
   "outputs": [
    {
     "name": "stdout",
     "output_type": "stream",
     "text": [
      "{u'school_state': u'NY', u'date_posted': u'2007-03-08', u'poverty_level': u'highest poverty', u'resource_type': u'Books', u'total_donations': 308.0}\n",
      "{u'school_state': u'NY', u'date_posted': u'2002-11-11', u'poverty_level': u'highest poverty', u'resource_type': u'Technology', u'total_donations': 329.0}\n",
      "{u'school_state': u'NY', u'date_posted': u'2002-11-11', u'poverty_level': u'highest poverty', u'resource_type': u'Trips', u'total_donations': 319.0}\n"
     ]
    }
   ],
   "source": [
    "for project in projects[0:3]:\n",
    "    print project"
   ]
  },
  {
   "cell_type": "code",
   "execution_count": 16,
   "metadata": {
    "collapsed": false
   },
   "outputs": [
    {
     "data": {
      "text/plain": [
       "<pymongo.cursor.Cursor at 0x3ea27b8>"
      ]
     },
     "execution_count": 16,
     "metadata": {},
     "output_type": "execute_result"
    }
   ],
   "source": [
    "projects.rewind() # this replaces the cursor to the top of the query (or else you cannot read through query anymore)\n",
    "# Or you can store it all in a list"
   ]
  },
  {
   "cell_type": "code",
   "execution_count": 28,
   "metadata": {
    "collapsed": true
   },
   "outputs": [],
   "source": [
    "projectsList = []\n",
    "for project in projects:\n",
    "    projectsList.append(project)"
   ]
  },
  {
   "cell_type": "code",
   "execution_count": 18,
   "metadata": {
    "collapsed": false
   },
   "outputs": [
    {
     "name": "stdout",
     "output_type": "stream",
     "text": [
      "{u'school_state': u'NY', u'date_posted': u'2007-03-08', u'poverty_level': u'highest poverty', u'resource_type': u'Books', u'total_donations': 308.0}\n",
      "{u'school_state': u'NY', u'date_posted': u'2002-11-11', u'poverty_level': u'highest poverty', u'resource_type': u'Technology', u'total_donations': 329.0}\n",
      "{u'school_state': u'NY', u'date_posted': u'2002-11-11', u'poverty_level': u'highest poverty', u'resource_type': u'Trips', u'total_donations': 319.0}\n"
     ]
    }
   ],
   "source": [
    "for project in projectsList[0:3]:\n",
    "    print project"
   ]
  },
  {
   "cell_type": "code",
   "execution_count": null,
   "metadata": {
    "collapsed": true
   },
   "outputs": [],
   "source": []
  },
  {
   "cell_type": "markdown",
   "metadata": {},
   "source": [
    "We now use similar code as above in project/app.py to read in the data from MongoDB. Then we create a front-end using the js files in static and the template. Finally we host our dashboard on our localhost:5000. At the end, have the mongoDB running (type mongod at the right path for mongo applications). Then run app.py and head to http://localhost:5000/"
   ]
  }
 ],
 "metadata": {
  "kernelspec": {
   "display_name": "Python 2",
   "language": "python",
   "name": "python2"
  },
  "language_info": {
   "codemirror_mode": {
    "name": "ipython",
    "version": 2
   },
   "file_extension": ".py",
   "mimetype": "text/x-python",
   "name": "python",
   "nbconvert_exporter": "python",
   "pygments_lexer": "ipython2",
   "version": "2.7.9"
  }
 },
 "nbformat": 4,
 "nbformat_minor": 0
}
