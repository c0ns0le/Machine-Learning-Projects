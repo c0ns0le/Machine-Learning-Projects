{
 "cells": [
  {
   "cell_type": "code",
   "execution_count": 2,
   "metadata": {
    "collapsed": false
   },
   "outputs": [
    {
     "name": "stdout",
     "output_type": "stream",
     "text": [
      "Populating the interactive namespace from numpy and matplotlib\n"
     ]
    }
   ],
   "source": [
    "%pylab inline"
   ]
  },
  {
   "cell_type": "markdown",
   "metadata": {},
   "source": [
    "## Accessing the Coursera Data"
   ]
  },
  {
   "cell_type": "code",
   "execution_count": 3,
   "metadata": {
    "collapsed": true
   },
   "outputs": [],
   "source": [
    "import urllib2\n",
    "import pandas as pd\n",
    "import json"
   ]
  },
  {
   "cell_type": "code",
   "execution_count": 4,
   "metadata": {
    "collapsed": true
   },
   "outputs": [],
   "source": [
    "coursesInfo = urllib2.urlopen(\n",
    "    'https://api.coursera.org/api/catalog.v1/courses?fields=shortName,name,language&includes=universities,categories')\n",
    "coursesData = json.load(coursesInfo)\n",
    "coursesData = coursesData['elements'] # elements is the overarching dictionary"
   ]
  },
  {
   "cell_type": "code",
   "execution_count": 5,
   "metadata": {
    "collapsed": false
   },
   "outputs": [
    {
     "name": "stdout",
     "output_type": "stream",
     "text": [
      "{u'shortName': u'perceptivehunting', u'links': {u'universities': [65], u'categories': [8, 10, 19, 20]}, u'id': 2163, u'language': u'en', u'name': u'The Land Ethic Reclaimed: Perceptive Hunting, Aldo Leopold, and Conservation'}\n"
     ]
    }
   ],
   "source": [
    "print coursesData[0] # Universities and categories are indexes from another list "
   ]
  },
  {
   "cell_type": "code",
   "execution_count": 6,
   "metadata": {
    "collapsed": true
   },
   "outputs": [],
   "source": [
    "universitiesInfo = urllib2.urlopen(\n",
    "    'https://api.coursera.org/api/catalog.v1/universities?fields=name,locationCountry')\n",
    "universitiesData = json.load(universitiesInfo)\n",
    "universitiesData = universitiesData['elements']"
   ]
  },
  {
   "cell_type": "code",
   "execution_count": 7,
   "metadata": {
    "collapsed": false
   },
   "outputs": [
    {
     "name": "stdout",
     "output_type": "stream",
     "text": [
      "{u'shortName': u'duke', u'locationCountry': u'US', u'id': 7, u'links': {}, u'name': u'Duke University'}\n"
     ]
    }
   ],
   "source": [
    "print universitiesData[65]"
   ]
  },
  {
   "cell_type": "code",
   "execution_count": 8,
   "metadata": {
    "collapsed": true
   },
   "outputs": [],
   "source": [
    "categoriesInfo = urllib2.urlopen(\n",
    "    'https://api.coursera.org/api/catalog.v1/categories?fields=shortName,name')\n",
    "categoriesData = json.load(categoriesInfo)\n",
    "categoriesData = categoriesData['elements']"
   ]
  },
  {
   "cell_type": "code",
   "execution_count": 9,
   "metadata": {
    "collapsed": false
   },
   "outputs": [
    {
     "name": "stdout",
     "output_type": "stream",
     "text": [
      "{u'shortName': u'law', u'id': 21, u'links': {}, u'name': u'Law'} {u'shortName': u'business', u'id': 13, u'links': {}, u'name': u'Business & Management'} {u'shortName': u'teacherpd', u'id': 26, u'links': {}, u'name': u'Teacher Professional Development'} {u'shortName': u'physics', u'id': 23, u'links': {}, u'name': u'Physics'}\n"
     ]
    }
   ],
   "source": [
    "print categoriesData[8], categoriesData[10], categoriesData[19], categoriesData[20]"
   ]
  },
  {
   "cell_type": "markdown",
   "metadata": {},
   "source": [
    "## Storing the Data in DataFrames"
   ]
  },
  {
   "cell_type": "code",
   "execution_count": 10,
   "metadata": {
    "collapsed": true
   },
   "outputs": [],
   "source": [
    "courses_df = pd.DataFrame()"
   ]
  },
  {
   "cell_type": "code",
   "execution_count": 11,
   "metadata": {
    "collapsed": true
   },
   "outputs": [],
   "source": [
    "courses_df['name'] = map(lambda course: course['name'], coursesData)\n",
    "courses_df['shortName'] = map(lambda course: course['shortName'], coursesData)\n",
    "courses_df['language'] = map(lambda course: course['language'], coursesData)\n",
    "courses_df['universitiesIds'] = map(lambda course: course['links']['universities'] if \n",
    "                                 'universities' in course['links'] else [], coursesData)\n",
    "courses_df['categoriesIds'] =  map(lambda course: course['links']['categories'] if \n",
    "                                 'categories' in course['links'] else [], coursesData)"
   ]
  },
  {
   "cell_type": "code",
   "execution_count": 12,
   "metadata": {
    "collapsed": false
   },
   "outputs": [
    {
     "name": "stdout",
     "output_type": "stream",
     "text": [
      "                                                name           shortName  \\\n",
      "0  The Land Ethic Reclaimed: Perceptive Hunting, ...   perceptivehunting   \n",
      "1   Contraception: Choices, Culture and Consequences       contraception   \n",
      "2     Introduction to Computational Arts: Processing  compartsprocessing   \n",
      "3            Introduction to Programming with MATLAB              matlab   \n",
      "4                    Experimentation for Improvement         experiments   \n",
      "\n",
      "  language universitiesIds    categoriesIds  \n",
      "0       en            [65]  [8, 10, 19, 20]  \n",
      "1       en            [10]           [3, 8]  \n",
      "2       en           [117]   [1, 4, 18, 22]  \n",
      "3       en            [37]         [12, 15]  \n",
      "4       en           [148]   [4, 5, 15, 16]  \n"
     ]
    }
   ],
   "source": [
    "print courses_df.head()"
   ]
  },
  {
   "cell_type": "code",
   "execution_count": 13,
   "metadata": {
    "collapsed": true
   },
   "outputs": [],
   "source": [
    "universities_df = pd.DataFrame()"
   ]
  },
  {
   "cell_type": "code",
   "execution_count": 14,
   "metadata": {
    "collapsed": true
   },
   "outputs": [],
   "source": [
    "universities_df['id'] = map(lambda universities: universities['id'], universitiesData)\n",
    "universities_df['name'] = map(lambda universities: universities['name'], universitiesData)\n",
    "universities_df['locationCountry'] = map(lambda universities: universities['locationCountry'], universitiesData)\n",
    "\n",
    "universities_df = universities_df.set_index('id') # so we can retrieve info with university id from courses_df"
   ]
  },
  {
   "cell_type": "code",
   "execution_count": 15,
   "metadata": {
    "collapsed": false
   },
   "outputs": [
    {
     "name": "stdout",
     "output_type": "stream",
     "text": [
      "                                        name locationCountry\n",
      "id                                                          \n",
      "234                Xi'an Jiaotong University              CN\n",
      "120                 University of New Mexico              US\n",
      "10   University of California, San Francisco              US\n",
      "56      University of California, Santa Cruz              US\n",
      "24            Hebrew University of Jerusalem                \n"
     ]
    }
   ],
   "source": [
    "print universities_df.head()"
   ]
  },
  {
   "cell_type": "code",
   "execution_count": 16,
   "metadata": {
    "collapsed": true
   },
   "outputs": [],
   "source": [
    "categories_df = pd.DataFrame()\n",
    "categories_df['id'] = map(lambda category_data: category_data['id'], categoriesData)\n",
    "categories_df['name'] = map(lambda category_data: category_data['name'], categoriesData)\n",
    "categories_df['shortName'] = map(lambda category_data: category_data['shortName'], categoriesData)\n",
    "\n",
    "categories_df = categories_df.set_index('id')"
   ]
  },
  {
   "cell_type": "code",
   "execution_count": 17,
   "metadata": {
    "collapsed": false
   },
   "outputs": [
    {
     "name": "stdout",
     "output_type": "stream",
     "text": [
      "                       name  shortName\n",
      "id                                    \n",
      "5               Mathematics       math\n",
      "10  Biology & Life Sciences    biology\n",
      "24                Chemistry  chemistry\n",
      "25  Energy & Earth Sciences     energy\n",
      "14                Education  education\n"
     ]
    }
   ],
   "source": [
    "print categories_df.head()"
   ]
  },
  {
   "cell_type": "code",
   "execution_count": 18,
   "metadata": {
    "collapsed": true
   },
   "outputs": [],
   "source": [
    "# Now we need to add columns to courses_df with the proper universities and categories\n",
    "def id2Name(df, ids, feature):\n",
    "    names = []\n",
    "    for id in ids:\n",
    "        try:\n",
    "            names.append(df.loc[id][feature])\n",
    "        except: continue\n",
    "    return names"
   ]
  },
  {
   "cell_type": "code",
   "execution_count": 19,
   "metadata": {
    "collapsed": false
   },
   "outputs": [],
   "source": [
    "courses_df['universitiesNames'] = map(lambda ids: id2Name(universities_df, ids, 'name'), courses_df.universitiesIds)\n",
    "courses_df['categoriesNames'] = map(lambda ids: id2Name(categories_df, ids, 'name'), courses_df.categoriesIds)"
   ]
  },
  {
   "cell_type": "code",
   "execution_count": 20,
   "metadata": {
    "collapsed": false
   },
   "outputs": [
    {
     "name": "stdout",
     "output_type": "stream",
     "text": [
      "                                                name           shortName  \\\n",
      "0  The Land Ethic Reclaimed: Perceptive Hunting, ...   perceptivehunting   \n",
      "1   Contraception: Choices, Culture and Consequences       contraception   \n",
      "2     Introduction to Computational Arts: Processing  compartsprocessing   \n",
      "3            Introduction to Programming with MATLAB              matlab   \n",
      "4                    Experimentation for Improvement         experiments   \n",
      "\n",
      "  language universitiesIds    categoriesIds  \\\n",
      "0       en            [65]  [8, 10, 19, 20]   \n",
      "1       en            [10]           [3, 8]   \n",
      "2       en           [117]   [1, 4, 18, 22]   \n",
      "3       en            [37]         [12, 15]   \n",
      "4       en           [148]   [4, 5, 15, 16]   \n",
      "\n",
      "                           universitiesNames  \\\n",
      "0          [University of Wisconsin–Madison]   \n",
      "1  [University of California, San Francisco]   \n",
      "2         [The State University of New York]   \n",
      "3                    [Vanderbilt University]   \n",
      "4                      [McMaster University]   \n",
      "\n",
      "                                     categoriesNames  \n",
      "0  [Health & Society, Biology & Life Sciences, Fo...  \n",
      "1                       [Medicine, Health & Society]  \n",
      "2  [Computer Science: Theory, Information, Tech &...  \n",
      "3  [Computer Science: Software Engineering, Engin...  \n",
      "4  [Information, Tech & Design, Mathematics, Engi...  \n"
     ]
    }
   ],
   "source": [
    "print courses_df.head()"
   ]
  },
  {
   "cell_type": "markdown",
   "metadata": {},
   "source": [
    "## Loading Coursera Links for Courses"
   ]
  },
  {
   "cell_type": "code",
   "execution_count": 21,
   "metadata": {
    "collapsed": true
   },
   "outputs": [],
   "source": [
    "# We will use https://www.sharedcount.com/ API to determine which courses are popular via social media\n",
    "# First we need to create links for all our courses\n",
    "\n",
    "courses_df['courseLink'] = map(lambda shortName: 'https://www.coursera.org/course/' + shortName, courses_df.shortName)"
   ]
  },
  {
   "cell_type": "code",
   "execution_count": 22,
   "metadata": {
    "collapsed": false
   },
   "outputs": [
    {
     "name": "stdout",
     "output_type": "stream",
     "text": [
      "                                                name           shortName  \\\n",
      "0  The Land Ethic Reclaimed: Perceptive Hunting, ...   perceptivehunting   \n",
      "1   Contraception: Choices, Culture and Consequences       contraception   \n",
      "2     Introduction to Computational Arts: Processing  compartsprocessing   \n",
      "3            Introduction to Programming with MATLAB              matlab   \n",
      "4                    Experimentation for Improvement         experiments   \n",
      "\n",
      "  language universitiesIds    categoriesIds  \\\n",
      "0       en            [65]  [8, 10, 19, 20]   \n",
      "1       en            [10]           [3, 8]   \n",
      "2       en           [117]   [1, 4, 18, 22]   \n",
      "3       en            [37]         [12, 15]   \n",
      "4       en           [148]   [4, 5, 15, 16]   \n",
      "\n",
      "                           universitiesNames  \\\n",
      "0          [University of Wisconsin–Madison]   \n",
      "1  [University of California, San Francisco]   \n",
      "2         [The State University of New York]   \n",
      "3                    [Vanderbilt University]   \n",
      "4                      [McMaster University]   \n",
      "\n",
      "                                     categoriesNames  \\\n",
      "0  [Health & Society, Biology & Life Sciences, Fo...   \n",
      "1                       [Medicine, Health & Society]   \n",
      "2  [Computer Science: Theory, Information, Tech &...   \n",
      "3  [Computer Science: Software Engineering, Engin...   \n",
      "4  [Information, Tech & Design, Mathematics, Engi...   \n",
      "\n",
      "                                          courseLink  \n",
      "0  https://www.coursera.org/course/perceptivehunting  \n",
      "1      https://www.coursera.org/course/contraception  \n",
      "2  https://www.coursera.org/course/compartsproces...  \n",
      "3             https://www.coursera.org/course/matlab  \n",
      "4        https://www.coursera.org/course/experiments  \n"
     ]
    }
   ],
   "source": [
    "print courses_df.head()"
   ]
  },
  {
   "cell_type": "markdown",
   "metadata": {},
   "source": [
    "## Receving the SharedCount API"
   ]
  },
  {
   "cell_type": "code",
   "execution_count": 30,
   "metadata": {
    "collapsed": true
   },
   "outputs": [],
   "source": [
    "def getSharedCountData(url, API):\n",
    "    socialMetrics = urllib2.urlopen('https://free.sharedcount.com/?url=' + url + '&apikey=' + API)\n",
    "    return json.load(socialMetrics)"
   ]
  },
  {
   "cell_type": "code",
   "execution_count": 31,
   "metadata": {
    "collapsed": false
   },
   "outputs": [],
   "source": [
    "API = 'f7d83e560625f52290d127229a5733d620c1aaa7'\n",
    "courses_df['SharedCountData'] = map(lambda url: getSharedCountData(url, API), courses_df.courseLink)"
   ]
  },
  {
   "cell_type": "code",
   "execution_count": 34,
   "metadata": {
    "collapsed": false
   },
   "outputs": [],
   "source": [
    "courses_df['facebookLikes'] = map(lambda socialMedia: socialMedia['Facebook']['like_count'], courses_df.SharedCountData)\n",
    "courses_df['twitterTweets'] = map(lambda socialMedia: socialMedia['Twitter'], courses_df.SharedCountData)"
   ]
  },
  {
   "cell_type": "code",
   "execution_count": 36,
   "metadata": {
    "collapsed": false
   },
   "outputs": [
    {
     "name": "stdout",
     "output_type": "stream",
     "text": [
      "                                                name           shortName  \\\n",
      "0  The Land Ethic Reclaimed: Perceptive Hunting, ...   perceptivehunting   \n",
      "1   Contraception: Choices, Culture and Consequences       contraception   \n",
      "2     Introduction to Computational Arts: Processing  compartsprocessing   \n",
      "3            Introduction to Programming with MATLAB              matlab   \n",
      "4                    Experimentation for Improvement         experiments   \n",
      "\n",
      "  language universitiesIds    categoriesIds  \\\n",
      "0       en            [65]  [8, 10, 19, 20]   \n",
      "1       en            [10]           [3, 8]   \n",
      "2       en           [117]   [1, 4, 18, 22]   \n",
      "3       en            [37]         [12, 15]   \n",
      "4       en           [148]   [4, 5, 15, 16]   \n",
      "\n",
      "                           universitiesNames  \\\n",
      "0          [University of Wisconsin–Madison]   \n",
      "1  [University of California, San Francisco]   \n",
      "2         [The State University of New York]   \n",
      "3                    [Vanderbilt University]   \n",
      "4                      [McMaster University]   \n",
      "\n",
      "                                     categoriesNames  \\\n",
      "0  [Health & Society, Biology & Life Sciences, Fo...   \n",
      "1                       [Medicine, Health & Society]   \n",
      "2  [Computer Science: Theory, Information, Tech &...   \n",
      "3  [Computer Science: Software Engineering, Engin...   \n",
      "4  [Information, Tech & Design, Mathematics, Engi...   \n",
      "\n",
      "                                          courseLink  \\\n",
      "0  https://www.coursera.org/course/perceptivehunting   \n",
      "1      https://www.coursera.org/course/contraception   \n",
      "2  https://www.coursera.org/course/compartsproces...   \n",
      "3             https://www.coursera.org/course/matlab   \n",
      "4        https://www.coursera.org/course/experiments   \n",
      "\n",
      "                                     SharedCountData  facebookLikes  \\\n",
      "0  {u'StumbleUpon': 0, u'Reddit': 0, u'Delicious'...            550   \n",
      "1  {u'StumbleUpon': 0, u'Reddit': 0, u'Delicious'...            692   \n",
      "2  {u'StumbleUpon': 0, u'Reddit': 0, u'Delicious'...            639   \n",
      "3  {u'StumbleUpon': 0, u'Reddit': 0, u'Delicious'...           1164   \n",
      "4  {u'StumbleUpon': 0, u'Reddit': 0, u'Delicious'...            146   \n",
      "\n",
      "   twitterTweets  \n",
      "0             81  \n",
      "1            199  \n",
      "2            169  \n",
      "3            196  \n",
      "4             47  \n"
     ]
    }
   ],
   "source": [
    "print courses_df.head()"
   ]
  },
  {
   "cell_type": "code",
   "execution_count": 45,
   "metadata": {
    "collapsed": false
   },
   "outputs": [
    {
     "data": {
      "text/html": [
       "<div>\n",
       "<table border=\"1\" class=\"dataframe\">\n",
       "  <thead>\n",
       "    <tr style=\"text-align: right;\">\n",
       "      <th></th>\n",
       "      <th>name</th>\n",
       "      <th>universitiesNames</th>\n",
       "      <th>categoriesNames</th>\n",
       "      <th>facebookLikes</th>\n",
       "      <th>twitterTweets</th>\n",
       "    </tr>\n",
       "  </thead>\n",
       "  <tbody>\n",
       "    <tr>\n",
       "      <th>643</th>\n",
       "      <td>Inquiry Science Learning: Perspectives and Pra...</td>\n",
       "      <td>[Rice University]</td>\n",
       "      <td>[Education, Teacher Professional Development]</td>\n",
       "      <td>297513</td>\n",
       "      <td>10</td>\n",
       "    </tr>\n",
       "    <tr>\n",
       "      <th>341</th>\n",
       "      <td>Using The Next Generation Science Standards fo...</td>\n",
       "      <td>[Rice University]</td>\n",
       "      <td>[Education, Teacher Professional Development]</td>\n",
       "      <td>297513</td>\n",
       "      <td>21</td>\n",
       "    </tr>\n",
       "    <tr>\n",
       "      <th>528</th>\n",
       "      <td>Diabetes - a Global Challenge</td>\n",
       "      <td>[University of Copenhagen]</td>\n",
       "      <td>[Medicine, Health &amp; Society, Biology &amp; Life Sc...</td>\n",
       "      <td>39104</td>\n",
       "      <td>199</td>\n",
       "    </tr>\n",
       "    <tr>\n",
       "      <th>315</th>\n",
       "      <td>Process Mining: Data science in Action</td>\n",
       "      <td>[Eindhoven University of Technology]</td>\n",
       "      <td>[Information, Tech &amp; Design, Business &amp; Manage...</td>\n",
       "      <td>15106</td>\n",
       "      <td>539</td>\n",
       "    </tr>\n",
       "    <tr>\n",
       "      <th>107</th>\n",
       "      <td>Equine Nutrition</td>\n",
       "      <td>[The University of Edinburgh]</td>\n",
       "      <td>[Medicine]</td>\n",
       "      <td>10638</td>\n",
       "      <td>544</td>\n",
       "    </tr>\n",
       "  </tbody>\n",
       "</table>\n",
       "</div>"
      ],
      "text/plain": [
       "                                                  name  \\\n",
       "643  Inquiry Science Learning: Perspectives and Pra...   \n",
       "341  Using The Next Generation Science Standards fo...   \n",
       "528                      Diabetes - a Global Challenge   \n",
       "315             Process Mining: Data science in Action   \n",
       "107                                   Equine Nutrition   \n",
       "\n",
       "                        universitiesNames  \\\n",
       "643                     [Rice University]   \n",
       "341                     [Rice University]   \n",
       "528            [University of Copenhagen]   \n",
       "315  [Eindhoven University of Technology]   \n",
       "107         [The University of Edinburgh]   \n",
       "\n",
       "                                       categoriesNames  facebookLikes  \\\n",
       "643      [Education, Teacher Professional Development]         297513   \n",
       "341      [Education, Teacher Professional Development]         297513   \n",
       "528  [Medicine, Health & Society, Biology & Life Sc...          39104   \n",
       "315  [Information, Tech & Design, Business & Manage...          15106   \n",
       "107                                         [Medicine]          10638   \n",
       "\n",
       "     twitterTweets  \n",
       "643             10  \n",
       "341             21  \n",
       "528            199  \n",
       "315            539  \n",
       "107            544  "
      ]
     },
     "execution_count": 45,
     "metadata": {},
     "output_type": "execute_result"
    }
   ],
   "source": [
    "impCols = ['name', 'universitiesNames', 'categoriesNames', 'facebookLikes', 'twitterTweets']\n",
    "# Top Courses based on Facebook Likes\n",
    "query = courses_df[courses_df.language == \"en\"] # we only want english classes\n",
    "query = query.sort('facebookLikes', ascending=0).head()\n",
    "query[impCols]"
   ]
  },
  {
   "cell_type": "code",
   "execution_count": 61,
   "metadata": {
    "collapsed": false
   },
   "outputs": [
    {
     "data": {
      "text/html": [
       "<div>\n",
       "<table border=\"1\" class=\"dataframe\">\n",
       "  <thead>\n",
       "    <tr style=\"text-align: right;\">\n",
       "      <th></th>\n",
       "      <th>name</th>\n",
       "      <th>universitiesNames</th>\n",
       "      <th>categoriesNames</th>\n",
       "      <th>facebookLikes</th>\n",
       "      <th>twitterTweets</th>\n",
       "    </tr>\n",
       "  </thead>\n",
       "  <tbody>\n",
       "    <tr>\n",
       "      <th>315</th>\n",
       "      <td>Process Mining: Data science in Action</td>\n",
       "      <td>[Eindhoven University of Technology]</td>\n",
       "      <td>[Information, Tech &amp; Design, Business &amp; Manage...</td>\n",
       "      <td>15106</td>\n",
       "      <td>539</td>\n",
       "    </tr>\n",
       "    <tr>\n",
       "      <th>467</th>\n",
       "      <td>Creativity, Innovation, and Change | 创意，创新, 与 变革</td>\n",
       "      <td>[The Pennsylvania State University]</td>\n",
       "      <td>[Computer Science: Theory, Economics &amp; Finance...</td>\n",
       "      <td>5518</td>\n",
       "      <td>1229</td>\n",
       "    </tr>\n",
       "    <tr>\n",
       "      <th>753</th>\n",
       "      <td>Startup Engineering</td>\n",
       "      <td>[Stanford University]</td>\n",
       "      <td>[Computer Science: Software Engineering, Busin...</td>\n",
       "      <td>4019</td>\n",
       "      <td>2584</td>\n",
       "    </tr>\n",
       "    <tr>\n",
       "      <th>717</th>\n",
       "      <td>Maps and the Geospatial Revolution</td>\n",
       "      <td>[The Pennsylvania State University]</td>\n",
       "      <td>[Information, Tech &amp; Design, Statistics and Da...</td>\n",
       "      <td>3926</td>\n",
       "      <td>1411</td>\n",
       "    </tr>\n",
       "    <tr>\n",
       "      <th>841</th>\n",
       "      <td>R Programming</td>\n",
       "      <td>[Johns Hopkins University]</td>\n",
       "      <td>[Information, Tech &amp; Design, Statistics and Da...</td>\n",
       "      <td>3903</td>\n",
       "      <td>1008</td>\n",
       "    </tr>\n",
       "  </tbody>\n",
       "</table>\n",
       "</div>"
      ],
      "text/plain": [
       "                                                 name  \\\n",
       "315            Process Mining: Data science in Action   \n",
       "467  Creativity, Innovation, and Change | 创意，创新, 与 变革   \n",
       "753                               Startup Engineering   \n",
       "717                Maps and the Geospatial Revolution   \n",
       "841                                     R Programming   \n",
       "\n",
       "                        universitiesNames  \\\n",
       "315  [Eindhoven University of Technology]   \n",
       "467   [The Pennsylvania State University]   \n",
       "753                 [Stanford University]   \n",
       "717   [The Pennsylvania State University]   \n",
       "841            [Johns Hopkins University]   \n",
       "\n",
       "                                       categoriesNames  facebookLikes  \\\n",
       "315  [Information, Tech & Design, Business & Manage...          15106   \n",
       "467  [Computer Science: Theory, Economics & Finance...           5518   \n",
       "753  [Computer Science: Software Engineering, Busin...           4019   \n",
       "717  [Information, Tech & Design, Statistics and Da...           3926   \n",
       "841  [Information, Tech & Design, Statistics and Da...           3903   \n",
       "\n",
       "     twitterTweets  \n",
       "315            539  \n",
       "467           1229  \n",
       "753           2584  \n",
       "717           1411  \n",
       "841           1008  "
      ]
     },
     "execution_count": 61,
     "metadata": {},
     "output_type": "execute_result"
    }
   ],
   "source": [
    "# Top Statistics and Data Analysis Courses based on Facebook Likes\n",
    "query = courses_df[courses_df.language == 'en']\n",
    "query = query[map(lambda categories: 'Statistics and Data Analysis' in categories, query.categoriesNames)]\n",
    "query = query.sort('facebookLikes', ascending=0).head()\n",
    "query[impCols]"
   ]
  }
 ],
 "metadata": {
  "kernelspec": {
   "display_name": "Python 2",
   "language": "python",
   "name": "python2"
  },
  "language_info": {
   "codemirror_mode": {
    "name": "ipython",
    "version": 2
   },
   "file_extension": ".py",
   "mimetype": "text/x-python",
   "name": "python",
   "nbconvert_exporter": "python",
   "pygments_lexer": "ipython2",
   "version": "2.7.9"
  }
 },
 "nbformat": 4,
 "nbformat_minor": 0
}
