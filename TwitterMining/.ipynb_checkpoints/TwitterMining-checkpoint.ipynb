{
 "cells": [
  {
   "cell_type": "markdown",
   "metadata": {},
   "source": [
    "##Mining Twitter Feeds using Text Analysis"
   ]
  },
  {
   "cell_type": "markdown",
   "metadata": {},
   "source": [
    "## Collecting the Data"
   ]
  },
  {
   "cell_type": "code",
   "execution_count": 2,
   "metadata": {
    "collapsed": false
   },
   "outputs": [],
   "source": [
    "from tweepy import Stream\n",
    "from tweepy import OAuthHandler\n",
    "from tweepy.streaming import StreamListener\n",
    "import os"
   ]
  },
  {
   "cell_type": "code",
   "execution_count": 2,
   "metadata": {
    "collapsed": true
   },
   "outputs": [],
   "source": [
    "consumer_key = 'wPeEyDrjfMdyQzN763Iyyl02d'\n",
    "consumer_secret = '481up7mpWX5zy9IusZoe2e4BZ6GywQCA37Q8Q8rn5hMF6WF5mQ'\n",
    "access_token = '3259586191-vEjD3fCWvWC7p0wg1eWBcrWxGJgsomclwYkeTsY'\n",
    "access_secret = 'jVU2TyipiAbvpuxF0FGXSYfGDDA09Gq1ghk9onn4aAvIl'"
   ]
  },
  {
   "cell_type": "code",
   "execution_count": 3,
   "metadata": {
    "collapsed": true
   },
   "outputs": [],
   "source": [
    "class StdOutListener(StreamListener):\n",
    "\n",
    "    def on_data(self, data):\n",
    "        print data\n",
    "        return True\n",
    "\n",
    "    def on_error(self, status):\n",
    "        print status"
   ]
  },
  {
   "cell_type": "code",
   "execution_count": null,
   "metadata": {
    "collapsed": false
   },
   "outputs": [],
   "source": [
    "if __name__ == '__main__':\n",
    "\n",
    "    #This handles Twitter authetification and the connection to Twitter Streaming API\n",
    "    l = StdOutListener()\n",
    "    auth = OAuthHandler(consumer_key, consumer_secret)\n",
    "    auth.set_access_token(access_token, access_secret)\n",
    "    stream = Stream(auth, l)\n",
    "\n",
    "    #This line filter Twitter Streams to capture data by the keywords: 'python', 'javascript', 'ruby'\n",
    "    stream.filter(track=['python'])"
   ]
  },
  {
   "cell_type": "markdown",
   "metadata": {},
   "source": [
    "##### Execute all the code above in command prompt and pipeline the output to a textfile using py TwitterMining.py > twitter_data.txt. Hit ctrl+C to stop fetching tweets."
   ]
  },
  {
   "cell_type": "code",
   "execution_count": 15,
   "metadata": {
    "collapsed": false
   },
   "outputs": [
    {
     "data": {
      "text/plain": [
       "1"
      ]
     },
     "execution_count": 15,
     "metadata": {},
     "output_type": "execute_result"
    }
   ],
   "source": [
    "# or you can do this from ipython notebook and it builds on the txt file continously until our limit for the API approaches\n",
    "# os.system('python TwitterMining.py > twitter_data.txt')"
   ]
  },
  {
   "cell_type": "code",
   "execution_count": 23,
   "metadata": {
    "collapsed": false
   },
   "outputs": [
    {
     "name": "stdout",
     "output_type": "stream",
     "text": [
      "{\"created_at\":\"Thu Jul 30 15:47:57 +0000 2015\",\"id\":626781283788673024,\"id_str\":\"626781283788673024\",\"text\":\"@_sinisterBen @The_Extrange @BigDongDaddyDom @Bervose @Uruguayan_Gator oh yeah, it's like the black knight in monty python :-D\",\"source\":\"\\u003ca href=\\\"http:\\/\\/twitter.com\\/download\\/android\\\" rel=\\\"nofollow\\\"\\u003eTwitter for Android\\u003c\\/a\\u003e\",\"truncated\":false,\"in_reply_to_status_id\":626780631243091968,\"in_reply_to_status_id_str\":\"626780631243091968\",\"in_reply_to_user_id\":2571342366,\"in_reply_to_user_id_str\":\"2571342366\",\"in_reply_to_screen_name\":\"_sinisterBen\",\"user\":{\"id\":3295575222,\"id_str\":\"3295575222\",\"name\":\"Beth Metal\",\"screen_name\":\"BethMetalUK\",\"location\":\"North East, England\",\"url\":null,\"description\":\"Anti censorship, pro #gamergate Babymetal fan. #notyourshield\",\"protected\":false,\"verified\":false,\"followers_count\":118,\"friends_count\":350,\"listed_count\":2,\"favourites_count\":183,\"statuses_count\":186,\"created_at\":\"Sun Jul 26 16:41:08 +0000 2015\",\"utc_offset\":null,\"time_zone\":null,\"geo_enabled\":false,\"lang\":\"en\",\"contributors_enabled\":false,\"is_translator\":false,\"profile_background_color\":\"C0DEED\",\"profile_background_image_url\":\"http:\\/\\/abs.twimg.com\\/images\\/themes\\/theme1\\/bg.png\",\"profile_background_image_url_https\":\"https:\\/\\/abs.twimg.com\\/images\\/themes\\/theme1\\/bg.png\",\"profile_background_tile\":false,\"profile_link_color\":\"0084B4\",\"profile_sidebar_border_color\":\"C0DEED\",\"profile_sidebar_fill_color\":\"DDEEF6\",\"profile_text_color\":\"333333\",\"profile_use_background_image\":true,\"profile_image_url\":\"http:\\/\\/pbs.twimg.com\\/profile_images\\/625347401314881536\\/3CFhSrUw_normal.jpg\",\"profile_image_url_https\":\"https:\\/\\/pbs.twimg.com\\/profile_images\\/625347401314881536\\/3CFhSrUw_normal.jpg\",\"profile_banner_url\":\"https:\\/\\/pbs.twimg.com\\/profile_banners\\/3295575222\\/1437930285\",\"default_profile\":true,\"default_profile_image\":false,\"following\":null,\"follow_request_sent\":null,\"notifications\":null},\"geo\":null,\"coordinates\":null,\"place\":null,\"contributors\":null,\"retweet_count\":0,\"favorite_count\":0,\"entities\":{\"hashtags\":[],\"trends\":[],\"urls\":[],\"user_mentions\":[{\"screen_name\":\"_sinisterBen\",\"name\":\"sinister\",\"id\":2571342366,\"id_str\":\"2571342366\",\"indices\":[0,13]},{\"screen_name\":\"The_Extrange\",\"name\":\"Extrange\",\"id\":19313066,\"id_str\":\"19313066\",\"indices\":[14,27]},{\"screen_name\":\"BigDongDaddyDom\",\"name\":\"Noir Honk \",\"id\":3074107357,\"id_str\":\"3074107357\",\"indices\":[28,44]},{\"screen_name\":\"Bervose\",\"name\":\"Something Happened\",\"id\":1486189430,\"id_str\":\"1486189430\",\"indices\":[45,53]},{\"screen_name\":\"Uruguayan_Gator\",\"name\":\"Chomp! Chomp!\",\"id\":2863320144,\"id_str\":\"2863320144\",\"indices\":[54,70]}],\"symbols\":[]},\"favorited\":false,\"retweeted\":false,\"possibly_sensitive\":false,\"filter_level\":\"low\",\"lang\":\"en\",\"timestamp_ms\":\"1438271277745\"}\r\n",
      "\n"
     ]
    }
   ],
   "source": [
    "tweets = open('twitter_data.txt', 'r')\n",
    "print tweets.readline() # show first tweet\n",
    "tweets.close()"
   ]
  },
  {
   "cell_type": "markdown",
   "metadata": {},
   "source": [
    "## Loading Tweets into List of Dicts in JSON Format"
   ]
  },
  {
   "cell_type": "code",
   "execution_count": 5,
   "metadata": {
    "collapsed": false
   },
   "outputs": [
    {
     "name": "stdout",
     "output_type": "stream",
     "text": [
      "Populating the interactive namespace from numpy and matplotlib\n"
     ]
    }
   ],
   "source": [
    "%pylab inline"
   ]
  },
  {
   "cell_type": "code",
   "execution_count": 6,
   "metadata": {
    "collapsed": true
   },
   "outputs": [],
   "source": [
    "import json\n",
    "import pandas as pd\n",
    "import matplotlib.pyplot as plt"
   ]
  },
  {
   "cell_type": "code",
   "execution_count": 24,
   "metadata": {
    "collapsed": false
   },
   "outputs": [],
   "source": [
    "tweetsData = []\n",
    "tweetsFile = open('twitter_data.txt', 'r')\n",
    "for line in tweetsFile:\n",
    "    try: # File has empty lines between each tweet \n",
    "        tweet = json.loads(line) # converts tweet into json format\n",
    "        tweetsData.append(tweet)\n",
    "    except:\n",
    "        continue # if line is empty"
   ]
  },
  {
   "cell_type": "code",
   "execution_count": 25,
   "metadata": {
    "collapsed": false
   },
   "outputs": [
    {
     "name": "stdout",
     "output_type": "stream",
     "text": [
      "39\n",
      "[u'contributors', u'truncated', u'text', u'in_reply_to_status_id', u'id', u'favorite_count', u'source', u'retweeted', u'coordinates', u'timestamp_ms', u'entities', u'in_reply_to_screen_name', u'id_str', u'retweet_count', u'in_reply_to_user_id', u'favorited', u'user', u'geo', u'in_reply_to_user_id_str', u'possibly_sensitive', u'lang', u'created_at', u'filter_level', u'in_reply_to_status_id_str', u'place']\n"
     ]
    }
   ],
   "source": [
    "# tweetsData is a list of dicts\n",
    "print len(tweetsData)\n",
    "print tweetsData[0].keys() # all the features of each tweet"
   ]
  },
  {
   "cell_type": "markdown",
   "metadata": {},
   "source": [
    "## Creating the DataFrame"
   ]
  },
  {
   "cell_type": "code",
   "execution_count": 123,
   "metadata": {
    "collapsed": false,
    "scrolled": true
   },
   "outputs": [],
   "source": [
    "tweets_df = pd.DataFrame()\n",
    "tweets_df['text'] = map(lambda tweet: tweet['text'], tweetsData)\n",
    "tweets_df['lang'] = map(lambda tweet: tweet['lang'], tweetsData)\n",
    "tweets_df['location'] = map(lambda tweet: tweet['user']['location'] if tweet['user'] != None else None, tweetsData)\n",
    "tweets_df['time'] = map(lambda tweet: tweet['created_at'], tweetsData)"
   ]
  },
  {
   "cell_type": "code",
   "execution_count": 33,
   "metadata": {
    "collapsed": false
   },
   "outputs": [
    {
     "data": {
      "text/plain": [
       "<matplotlib.axes._subplots.AxesSubplot at 0xdc11ef0>"
      ]
     },
     "execution_count": 33,
     "metadata": {},
     "output_type": "execute_result"
    },
    {
     "data": {
      "image/png": "[encoded data removed]",
      "text/plain": [
       "<matplotlib.figure.Figure at 0xdccdf98>"
      ]
     },
     "metadata": {},
     "output_type": "display_data"
    }
   ],
   "source": [
    "tweetsLang = tweets_df.lang.value_counts()\n",
    "\n",
    "fig, ax = plt.subplots()\n",
    "ax.tick_params(axis='y', labelsize=15)\n",
    "ax.tick_params(axis='x', labelsize=10)\n",
    "ax.set_ylabel('Languages', fontsize=15)\n",
    "ax.set_xlabel('Number of tweets' , fontsize=15)\n",
    "ax.set_title('Top 5 languages', fontsize=15, fontweight='bold')\n",
    "tweetsLang[:5].plot(ax=ax, kind='barh')"
   ]
  },
  {
   "cell_type": "markdown",
   "metadata": {},
   "source": [
    "## Text Analysis I"
   ]
  },
  {
   "cell_type": "code",
   "execution_count": 35,
   "metadata": {
    "collapsed": false
   },
   "outputs": [],
   "source": [
    "import re"
   ]
  },
  {
   "cell_type": "code",
   "execution_count": 124,
   "metadata": {
    "collapsed": true
   },
   "outputs": [],
   "source": [
    "def wordInText(word, text):\n",
    "    word = word.lower()\n",
    "    text = text.lower()\n",
    "    if re.search(word, text):\n",
    "        return True\n",
    "    else: return False"
   ]
  },
  {
   "cell_type": "code",
   "execution_count": 45,
   "metadata": {
    "collapsed": false
   },
   "outputs": [],
   "source": [
    "tweets_df[\"python\"] = tweets_df.text.apply(lambda tweet: wordInText(\"python\", tweet))"
   ]
  },
  {
   "cell_type": "code",
   "execution_count": 138,
   "metadata": {
    "collapsed": false
   },
   "outputs": [],
   "source": [
    "# Of the tweets that mention python, lets see how many refer to data science or machine learning\n",
    "tweets_df[\"dataScience\"] = tweets_df.text.apply(lambda tweet: wordInText(\"data science\", tweet))\n",
    "tweets_df[\"machineLearning\"] = tweets_df.text.apply(lambda tweet: wordInText(\"machine learning\", tweet))\n",
    "tweets_df[\"both\"] = tweets_df.text.apply(lambda tweet: \n",
    "                                         wordInText(\"data science\", tweet) and wordInText(\"machine learning\", tweet))"
   ]
  },
  {
   "cell_type": "code",
   "execution_count": 150,
   "metadata": {
    "collapsed": false
   },
   "outputs": [
    {
     "data": {
      "text/plain": [
       "<matplotlib.text.Text at 0x115bc550>"
      ]
     },
     "execution_count": 150,
     "metadata": {},
     "output_type": "execute_result"
    },
    {
     "data": {
      "image/png": "[encoded data removed]",
      "text/plain": [
       "<matplotlib.figure.Figure at 0x1149b320>"
      ]
     },
     "metadata": {},
     "output_type": "display_data"
    }
   ],
   "source": [
    "tweetTopicCount = [tweets_df['dataScience'].value_counts()[True], \n",
    "                   tweets_df['machineLearning'].value_counts()[True],\n",
    "                   tweets_df['both'].value_counts()[True]]\n",
    "                          \n",
    "topics = [\"Data Science\", \"Machine Learning\", \"Both\"]\n",
    "X = list(range(len(tweetTopicCount)))\n",
    "\n",
    "\n",
    "fig, ax = plt.subplots()\n",
    "width = 0.5\n",
    "plt.bar(X, tweetTopicCount, width, alpha=1,color='g')\n",
    "ax.tick_params(axis='x', labelsize=15)\n",
    "ax.tick_params(axis='y', labelsize=10)\n",
    "ax.set_ylabel('# of Tweets', fontsize=15)\n",
    "ax.set_xlabel('Tweet Topic' , fontsize=15)\n",
    "ax.set_xticklabels(topics)\n",
    "ax.set_xticks([p + 0.4 * width for p in X])\n",
    "ax.set_title('Data Science vs. Machine Learning', fontsize=15, fontweight='bold')"
   ]
  },
  {
   "cell_type": "markdown",
   "metadata": {},
   "source": [
    "## Text Analysis II"
   ]
  },
  {
   "cell_type": "code",
   "execution_count": 192,
   "metadata": {
    "collapsed": false
   },
   "outputs": [],
   "source": [
    "# Now we will extract popular hashtags from our tweets\n",
    "tweets_df['hashtags'] = map(lambda tweet: tweet['entities']['hashtags'][0]['text'] if not(not tweet['entities']['hashtags'])\n",
    "                            else \"none\", tweetsData) # if statement checks if list is empty (no #) or not\n",
    "tweetsX = tweets_df.hashtags"
   ]
  },
  {
   "cell_type": "code",
   "execution_count": 152,
   "metadata": {
    "collapsed": true
   },
   "outputs": [],
   "source": [
    "from sklearn.feature_extraction.text import TfidfVectorizer"
   ]
  },
  {
   "cell_type": "code",
   "execution_count": 252,
   "metadata": {
    "collapsed": false
   },
   "outputs": [],
   "source": [
    "vectorizer = TfidfVectorizer(stop_words='english',\n",
    "                             min_df = 2,\n",
    "                             max_df = 0.95,\n",
    "                             sublinear_tf=True,\n",
    "                             use_idf=True)\n",
    "# min_df = 2, remove words appearing in less than 2 documents\n",
    "# max_df = 0.95, remove words appering in more than 95% of the documents\n",
    "\n",
    "transformedTweets = vectorizer.fit_transform(tweetsX)"
   ]
  },
  {
   "cell_type": "code",
   "execution_count": 166,
   "metadata": {
    "collapsed": true
   },
   "outputs": [],
   "source": [
    "import operator"
   ]
  },
  {
   "cell_type": "code",
   "execution_count": 212,
   "metadata": {
    "collapsed": false
   },
   "outputs": [
    {
     "name": "stdout",
     "output_type": "stream",
     "text": [
      "{u'shoes': 25, u'hiring': 12, u'java': 16, u'arduino': 1, u'socialmedia': 26, u'python': 21, u'newcastle': 19, u'rstats': 24, u'randombits': 22, u'deeplearning': 9, u'kindle': 18, u'dataanalysis': 7, u'computer': 4, u'bigdata': 2, u'chavezvictoriadevzla': 3, u'appleiphone': 0, u'fate_sn_anime': 11, u'itjob': 15, u'ios': 14, u'ibis': 13, u'job': 17, u'conda': 5, u'\\u30d5\\u30a9\\u30ed\\u30ef\\u30fc\\u306e8\\u5272\\u304f\\u3089\\u3044\\u304c\\u4f53\\u9a13\\u3057\\u305f\\u4e8b\\u304c\\u7121\\u3055\\u305d\\u3046\\u306a\\u4f53\\u9a13': 27, u'raspberry': 23, u'data': 6, u'faster': 10, u'programming': 20, u'datascience': 8}\n"
     ]
    }
   ],
   "source": [
    "print vectorizer.vocabulary_"
   ]
  },
  {
   "cell_type": "code",
   "execution_count": 246,
   "metadata": {
    "collapsed": false
   },
   "outputs": [],
   "source": [
    "sortedWords = sorted(vectorizer.vocabulary_.items(), key=operator.itemgetter(1), reverse=True)\n",
    "topHashtags = [word[0] for word in sortedWords]"
   ]
  },
  {
   "cell_type": "code",
   "execution_count": 251,
   "metadata": {
    "collapsed": false
   },
   "outputs": [
    {
     "name": "stdout",
     "output_type": "stream",
     "text": [
      "[u'socialmedia', u'shoes', u'rstats', u'raspberry', u'randombits', u'python', u'programming', u'newcastle', u'kindle', u'job', u'java', u'itjob', u'ios', u'ibis', u'hiring', u'fate_sn_anime', u'faster', u'deeplearning', u'datascience', u'dataanalysis', u'data', u'conda', u'computer', u'bigdata', u'arduino', u'appleiphone']\n"
     ]
    }
   ],
   "source": [
    "topActualWords = [word for word in topHashtags if len(word) < 15] # there are some large trash hashtags\n",
    "print topActualWords"
   ]
  }
 ],
 "metadata": {
  "kernelspec": {
   "display_name": "Python 2",
   "language": "python",
   "name": "python2"
  },
  "language_info": {
   "codemirror_mode": {
    "name": "ipython",
    "version": 2
   },
   "file_extension": ".py",
   "mimetype": "text/x-python",
   "name": "python",
   "nbconvert_exporter": "python",
   "pygments_lexer": "ipython2",
   "version": "2.7.9"
  }
 },
 "nbformat": 4,
 "nbformat_minor": 0
}
