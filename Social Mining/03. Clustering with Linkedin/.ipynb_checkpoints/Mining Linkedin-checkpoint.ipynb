{
 "cells": [
  {
   "cell_type": "markdown",
   "metadata": {},
   "source": [
    "### Clustering to Enhance UI"
   ]
  },
  {
   "cell_type": "code",
   "execution_count": 56,
   "metadata": {
    "collapsed": false
   },
   "outputs": [
    {
     "name": "stdout",
     "output_type": "stream",
     "text": [
      "Populating the interactive namespace from numpy and matplotlib\n"
     ]
    }
   ],
   "source": [
    "%pylab inline"
   ]
  },
  {
   "cell_type": "markdown",
   "metadata": {},
   "source": [
    "### Normalization"
   ]
  },
  {
   "cell_type": "markdown",
   "metadata": {},
   "source": [
    "##### (Use Google OpenRefine for large datasets)"
   ]
  },
  {
   "cell_type": "code",
   "execution_count": 235,
   "metadata": {
    "collapsed": false
   },
   "outputs": [],
   "source": [
    "data = [{'name' : 'Goku Mohandas', 'Company' : 'Split Inc.'}, {'name' : 'Anshul Bansal', 'Company' : 'ZS LLC'}, \n",
    "        {'name' : 'Mohandas Mariappan', 'Company' : 'EY'}, {'name' : 'Andy Pittman', 'Company' : 'Pindrop Securities, Inc.'}]\n",
    "\n",
    "transforms = [(', Inc.', ''), (', Inc', ''), (', LLC', ''), (', LLP', ''),\n",
    "               ('LLC', ''), ('Inc.', ''), ('Inc', '')]"
   ]
  },
  {
   "cell_type": "code",
   "execution_count": 236,
   "metadata": {
    "collapsed": false
   },
   "outputs": [],
   "source": [
    "contacts = [row for row in data]\n",
    "companies = [c['Company'].strip() for c in contacts if c['Company'].strip() != \"\"]"
   ]
  },
  {
   "cell_type": "code",
   "execution_count": 238,
   "metadata": {
    "collapsed": false
   },
   "outputs": [],
   "source": [
    "for i, comp in enumerate(companies):\n",
    "    for transform in transforms:\n",
    "        companies[i] = companies[i].replace(*transform)"
   ]
  },
  {
   "cell_type": "code",
   "execution_count": 239,
   "metadata": {
    "collapsed": false
   },
   "outputs": [
    {
     "name": "stdout",
     "output_type": "stream",
     "text": [
      "['Split ', 'ZS ', 'EY', 'Pindrop Securities']\n"
     ]
    }
   ],
   "source": [
    "print companies"
   ]
  },
  {
   "cell_type": "markdown",
   "metadata": {
    "collapsed": true
   },
   "source": [
    "### Geographic Normalization"
   ]
  },
  {
   "cell_type": "code",
   "execution_count": 1,
   "metadata": {
    "collapsed": true
   },
   "outputs": [],
   "source": [
    "from geopy import geocoders"
   ]
  },
  {
   "cell_type": "code",
   "execution_count": 241,
   "metadata": {
    "collapsed": true
   },
   "outputs": [],
   "source": [
    "GEO_APP_KEY = ' 6d2Gq9fZf5rRfLlCm421~oZfRuXRhxSAobttPoRYyDg~AhXjl-TViSBgP2xDERPW_wnGHCOGy9OeKICF1PXO8-7jy8pXp2ojld4aSv6TJYwe'"
   ]
  },
  {
   "cell_type": "code",
   "execution_count": 275,
   "metadata": {
    "collapsed": false
   },
   "outputs": [
    {
     "name": "stdout",
     "output_type": "stream",
     "text": [
      "[Location((40.3041496277, -74.6323699951, 0.0)), Location((43.4674491882, -72.4719772339, 0.0)), Location((42.6473388672, -84.6936416626, 0.0)), Location((-26.1228408813, 27.9659099579, 0.0)), Location((51.4819908142, -0.612169981003, 0.0))]\n"
     ]
    }
   ],
   "source": [
    "g = geocoders.Bing(GEO_APP_KEY)\n",
    "locations = g.geocode(\"West Windsor\", exactly_one=False)\n",
    "print locations"
   ]
  },
  {
   "cell_type": "code",
   "execution_count": 273,
   "metadata": {
    "collapsed": false
   },
   "outputs": [
    {
     "name": "stdout",
     "output_type": "stream",
     "text": [
      "West Windsor Township, NJ, United States\n",
      "West Windsor, VT, United States\n",
      "West Windsor, MI, United States\n",
      "Windsor West, Gauteng, South Africa\n",
      "Windsor, England, United Kingdom\n"
     ]
    }
   ],
   "source": [
    "for location in locations:\n",
    "    print location"
   ]
  },
  {
   "cell_type": "code",
   "execution_count": 264,
   "metadata": {
    "collapsed": false
   },
   "outputs": [
    {
     "name": "stdout",
     "output_type": "stream",
     "text": [
      "Atlanta Georgia United States of America\n"
     ]
    }
   ],
   "source": [
    "reverseLookUp = geocoders.Nominatim()\n",
    "location = reverseLookUp.reverse(\"33.7483100891, -84.3911132812\")\n",
    "print location.raw['address']['city'], location.raw['address']['state'], location.raw['address']['country']"
   ]
  },
  {
   "cell_type": "markdown",
   "metadata": {},
   "source": [
    "### Similarity"
   ]
  },
  {
   "cell_type": "code",
   "execution_count": 2,
   "metadata": {
    "collapsed": true
   },
   "outputs": [],
   "source": [
    "import nltk\n",
    "from nltk.metrics.distance import edit_distance # need to explicity call out these methods for NLTK package\n",
    "from nltk.metrics import association"
   ]
  },
  {
   "cell_type": "code",
   "execution_count": 286,
   "metadata": {
    "collapsed": false
   },
   "outputs": [
    {
     "name": "stdout",
     "output_type": "stream",
     "text": [
      "3\n"
     ]
    }
   ],
   "source": [
    "# Edit distance : number of insertions, deletions and replacements to go from one word to another\n",
    "distance = edit_distance(\"daddy\", \"bad\")\n",
    "print distance"
   ]
  },
  {
   "cell_type": "code",
   "execution_count": 305,
   "metadata": {
    "collapsed": false
   },
   "outputs": [
    {
     "name": "stdout",
     "output_type": "stream",
     "text": [
      "[(None, 'Chief'), ('Chief', 'Executive'), ('Executive', 'Officer'), ('Officer', None)]\n",
      "[(None, 'Chief'), ('Chief', 'Technology'), ('Technology', 'Officer'), ('Officer', None)]\n",
      "Similarity:  2\n"
     ]
    }
   ],
   "source": [
    "# n-grams is getting all possiblities of words in a n-length string and comparing the common n-grams in\n",
    "# the two n-length strings in order to determine similarity.\n",
    "\n",
    "ceo_bigrams = list(nltk.bigrams(\"Chief Executive Officer\".split(), pad_right=True, pad_left=True))\n",
    "cto_bigrams = list(nltk.bigrams(\"Chief Technology Officer\".split(), pad_right=True, pad_left=True))\n",
    "\n",
    "print ceo_bigrams\n",
    "print cto_bigrams\n",
    "\n",
    "# Similarity\n",
    "print \"Similarity: \", len(set(ceo_bigrams).intersection(set(cto_bigrams)))"
   ]
  },
  {
   "cell_type": "code",
   "execution_count": 3,
   "metadata": {
    "collapsed": false
   },
   "outputs": [],
   "source": [
    "# Jaccard Distance\n",
    "# Ratio of intersection / union = common items / total number of distinct items\n",
    "\n",
    "from nltk.metrics.distance import jaccard_distance"
   ]
  },
  {
   "cell_type": "code",
   "execution_count": 318,
   "metadata": {
    "collapsed": false
   },
   "outputs": [
    {
     "name": "stdout",
     "output_type": "stream",
     "text": [
      "0.666666666667\n",
      "0.5\n",
      "set(['Chief', 'Executive', 'Officer'])\n"
     ]
    }
   ],
   "source": [
    "# 4 / 6\n",
    "print jaccard_distance(set(ceo_bigrams), set(cto_bigrams))\n",
    "\n",
    "print jaccard_distance(set(\"Chief Executive Officer\".split()), set(\"Chief Technology Officer\".split()))\n",
    "print set(\"Chief Executive Officer\".split())"
   ]
  },
  {
   "cell_type": "markdown",
   "metadata": {},
   "source": [
    "### Greedy Clustering"
   ]
  },
  {
   "cell_type": "code",
   "execution_count": 5,
   "metadata": {
    "collapsed": true
   },
   "outputs": [],
   "source": [
    "all_titles = ['Chief Technology Officer', 'Chief Executive Officer', 'Chief Analytics Officer', 'Data Scientist',\n",
    "         'Research Associate', 'Vice President', 'Senior Managing Officer', 'Intern', 'Research Associate',\n",
    "         'Software Engineer', 'Materials Engineer']"
   ]
  },
  {
   "cell_type": "code",
   "execution_count": 7,
   "metadata": {
    "collapsed": false
   },
   "outputs": [],
   "source": [
    "clusters = {}\n",
    "THRESHOLD = 0.5\n",
    "for title1 in all_titles:\n",
    "    clusters[title1] = [] \n",
    "    for title2 in all_titles:\n",
    "        if title2 in clusters[title1] or clusters.has_key(title2) and title1 in clusters[title2]:\n",
    "            continue\n",
    "        distance = jaccard_distance(set(title1.split()), set(title2.split())) \n",
    "        if distance <= THRESHOLD:\n",
    "            clusters[title1].append(title2)"
   ]
  },
  {
   "cell_type": "code",
   "execution_count": 8,
   "metadata": {
    "collapsed": false
   },
   "outputs": [
    {
     "name": "stdout",
     "output_type": "stream",
     "text": [
      "{'Chief Technology Officer': ['Chief Technology Officer', 'Chief Executive Officer', 'Chief Analytics Officer'], 'Vice President': ['Vice President'], 'Data Scientist': ['Data Scientist'], 'Materials Engineer': ['Materials Engineer'], 'Chief Analytics Officer': ['Chief Analytics Officer'], 'Intern': ['Intern'], 'Chief Executive Officer': ['Chief Executive Officer', 'Chief Analytics Officer'], 'Senior Managing Officer': ['Senior Managing Officer'], 'Research Associate': ['Research Associate'], 'Software Engineer': ['Software Engineer']}\n"
     ]
    }
   ],
   "source": [
    "print clusters"
   ]
  },
  {
   "cell_type": "markdown",
   "metadata": {},
   "source": [
    "### KMeans Clustering"
   ]
  },
  {
   "cell_type": "code",
   "execution_count": 51,
   "metadata": {
    "collapsed": false
   },
   "outputs": [],
   "source": [
    "from scipy.cluster.vq import kmeans, vq \n",
    "import matplotlib.pyplot as plt\n",
    "import numpy as np"
   ]
  },
  {
   "cell_type": "code",
   "execution_count": 22,
   "metadata": {
    "collapsed": false
   },
   "outputs": [],
   "source": [
    "x1 = np.array([1.0, 2.0, 3.0, 1.0, 5.0, 6.0, 5.0, 5.0, 6.0, 7.0, 8.0, 9.0, 7.0, 9.0])\n",
    "x2 = np.array([1.0, 3.0, 2.0, 2.0, 8.0, 6.0, 7.0, 6.0, 7.0, 1.0, 2.0, 1.0, 1.0, 3.0])\n",
    "X = np.array(zip(x1, x2)).reshape(len(x1), 2) # zip('ABCD', 'xy') --> Ax By"
   ]
  },
  {
   "cell_type": "code",
   "execution_count": 45,
   "metadata": {
    "collapsed": false
   },
   "outputs": [],
   "source": [
    "centers, avg_distortion = kmeans(X, 3)\n",
    "labels, distortions_array = vq(X, centers)"
   ]
  },
  {
   "cell_type": "code",
   "execution_count": 49,
   "metadata": {
    "collapsed": false
   },
   "outputs": [],
   "source": [
    "distortions = {}\n",
    "for i in range(1, 10):\n",
    "    centers, avg_distortion = kmeans(X, i)\n",
    "    distortions[i] = avg_distortion"
   ]
  },
  {
   "cell_type": "code",
   "execution_count": 57,
   "metadata": {
    "collapsed": false
   },
   "outputs": [
    {
     "data": {
      "image/png": "[encoded data removed]",
      "text/plain": [
       "<matplotlib.figure.Figure at 0x10ba7f990>"
      ]
     },
     "metadata": {},
     "output_type": "display_data"
    }
   ],
   "source": [
    "K = distortions.keys()\n",
    "meanDistortions = [distortions[k] for k in K]\n",
    "plt.plot(K, meanDistortions)\n",
    "plt.show()"
   ]
  }
 ],
 "metadata": {
  "kernelspec": {
   "display_name": "Python 2",
   "language": "python",
   "name": "python2"
  },
  "language_info": {
   "codemirror_mode": {
    "name": "ipython",
    "version": 2
   },
   "file_extension": ".py",
   "mimetype": "text/x-python",
   "name": "python",
   "nbconvert_exporter": "python",
   "pygments_lexer": "ipython2",
   "version": "2.7.10"
  }
 },
 "nbformat": 4,
 "nbformat_minor": 0
}
