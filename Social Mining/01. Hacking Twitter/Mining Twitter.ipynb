{
 "cells": [
  {
   "cell_type": "code",
   "execution_count": 208,
   "metadata": {
    "collapsed": false
   },
   "outputs": [
    {
     "name": "stdout",
     "output_type": "stream",
     "text": [
      "Populating the interactive namespace from numpy and matplotlib\n"
     ]
    }
   ],
   "source": [
    "%pylab inline\n",
    "import twitter\n",
    "import json\n",
    "from collections import *"
   ]
  },
  {
   "cell_type": "markdown",
   "metadata": {},
   "source": [
    "### Twitter API Connection"
   ]
  },
  {
   "cell_type": "code",
   "execution_count": 5,
   "metadata": {
    "collapsed": false
   },
   "outputs": [],
   "source": [
    "CONSUMER_KEY = 'SobCL1xzkY2jGgwNq4zNFG2AM'\n",
    "CONSUMER_SECRET = '5xtP9MZFpps09DT6KJ4k7DFXHFwqNym2xreSkaZMQ8wccMAr39'\n",
    "OAUTH_TOKEN = '3259586191-RjiMKzFe7j2Ia2N5b6vDvePrG3vz74sugprL4hT'\n",
    "OAUTH_TOKEN_SECRET = '4OO4pYvBUzKmHgpB2Wnv23xEfTa1RDPOhmfhh4vm4ROgY'"
   ]
  },
  {
   "cell_type": "code",
   "execution_count": 11,
   "metadata": {
    "collapsed": false
   },
   "outputs": [
    {
     "name": "stdout",
     "output_type": "stream",
     "text": [
      "<twitter.api.Twitter object at 0x103e15ad0>\n"
     ]
    }
   ],
   "source": [
    "auth = twitter.oauth.OAuth(OAUTH_TOKEN, OAUTH_TOKEN_SECRET, CONSUMER_KEY, CONSUMER_SECRET)\n",
    "twitter_api = twitter.Twitter(auth=auth)\n",
    "print twitter_api"
   ]
  },
  {
   "cell_type": "markdown",
   "metadata": {
    "collapsed": true
   },
   "source": [
    "### Trends"
   ]
  },
  {
   "cell_type": "code",
   "execution_count": 12,
   "metadata": {
    "collapsed": true
   },
   "outputs": [],
   "source": [
    "WORLD_ID = 1\n",
    "US_ID = 23424977"
   ]
  },
  {
   "cell_type": "code",
   "execution_count": 30,
   "metadata": {
    "collapsed": false
   },
   "outputs": [],
   "source": [
    "world_trends = twitter_api.trends.place(_id=WORLD_ID)\n",
    "us_trends = twitter_api.trends.place(_id=US_ID)"
   ]
  },
  {
   "cell_type": "code",
   "execution_count": 29,
   "metadata": {
    "collapsed": false
   },
   "outputs": [
    {
     "name": "stdout",
     "output_type": "stream",
     "text": [
      "World Trends:  set([u'\\ud50c\\ub798\\uc2dc\\ubab9', u'Berugo', u'\\uc6b0\\ub9ac\\ub098\\ub77c', u'#JackAndJackUSTixOnSale', u'Molenbeek', u'#TodosSomosParis', u'\\uad11\\ud654\\ubb38', u'#espalheamor', u'#MTVStars', u'#\\u0632\\u062f_\\u0631\\u0635\\u064a\\u062f\\u06431'])\n",
      "\n",
      "US Trends:  set([u'#MakePeaceIn5Words', u'Golson', u'Connor Cook', u'#PurposeTheMovement', u'#JackAndJackUSTixOnSale', u'Nohemi Gonzalez', u'#MTVStars', u'Jeff Dunham', u'#SDCCPreReg', u'Zeke'])\n",
      "\n",
      "Common Trends:  set([u'#MTVStars', u'#JackAndJackUSTixOnSale'])\n"
     ]
    }
   ],
   "source": [
    "world_trends_set = set([trend['name'] for trend in world_trends[0]['trends']])\n",
    "us_trends_set = set([trend['name'] for trend in us_trends[0]['trends']])\n",
    "intersection = world_trends_set.intersection(us_trends_set)\n",
    "\n",
    "print \"World Trends: \", world_trends_set\n",
    "print \"\\nUS Trends: \", us_trends_set\n",
    "print \"\\nCommon Trends: \", intersection"
   ]
  },
  {
   "cell_type": "markdown",
   "metadata": {},
   "source": [
    "### Searching for Tweets"
   ]
  },
  {
   "cell_type": "code",
   "execution_count": 31,
   "metadata": {
    "collapsed": true
   },
   "outputs": [],
   "source": [
    "q = '#Federer'\n",
    "count = 25\n",
    "search_results = twitter_api.search.tweets(q=q, count=count)"
   ]
  },
  {
   "cell_type": "code",
   "execution_count": 41,
   "metadata": {
    "collapsed": false
   },
   "outputs": [
    {
     "name": "stdout",
     "output_type": "stream",
     "text": [
      "[u'#Federer vs #Berdych \\n#ATP #FinalShowdown https://t.co/4uFfD8vTyw', u'https://t.co/5KklpN9lXW ATP - Masters : Djokovic favori devant Federer et Nadal #Djokovic #FinalShowdown #Federer\\u2026 https://t.co/3o4snG7TIU', u'ATP - Masters : Djokovic favori devant Federer et Nadal #Djokovic #FinalShowdown #Federer #Nadal #ATP \\u2026 https://t.co/3o4snG7TIU', u'Nada como su s\\xe1bado de tenis !!! SIN CA\\xd1A! Ahora a ver a los burros al IPSA #tenis #federer #djokovic\\u2026 \\u2026 https://t.co/3o4snG7TIU', u'#FatLoss #Fit Benefits of Alkaline Water for Weight Loss\\u2026 https://t.co/tnfbzHVkAB #Federer #Fitbit https://t.co/eLZPNU6dEY']\n"
     ]
    }
   ],
   "source": [
    "statuses = [status['text'] for status in search_results['statuses']]\n",
    "print statuses[0:5]"
   ]
  },
  {
   "cell_type": "code",
   "execution_count": 43,
   "metadata": {
    "collapsed": false
   },
   "outputs": [
    {
     "name": "stdout",
     "output_type": "stream",
     "text": [
      "?max_id=665611186419974143&q=%23Federer&count=25&include_entities=1\n"
     ]
    }
   ],
   "source": [
    "# Metadata to get new results when you search next time!\n",
    "meta_data = search_results['search_metadata']['next_results']\n",
    "print meta_data"
   ]
  },
  {
   "cell_type": "code",
   "execution_count": 44,
   "metadata": {
    "collapsed": false
   },
   "outputs": [
    {
     "name": "stdout",
     "output_type": "stream",
     "text": [
      "{u'q': u'%23Federer', u'count': u'25', u'include_entities': u'1', u'max_id': u'665611186419974143'}\n"
     ]
    }
   ],
   "source": [
    "kwargs = dict([kv.split(\"=\") for kv in meta_data[1:].split(\"&\")])\n",
    "print kwargs"
   ]
  },
  {
   "cell_type": "code",
   "execution_count": 48,
   "metadata": {
    "collapsed": false
   },
   "outputs": [
    {
     "name": "stdout",
     "output_type": "stream",
     "text": [
      "[u'https://t.co/5KklpN9lXW Voici les r\\xe9sultats du sondage de la semaine. Pour vous, #Djokovic et #Federer sont les favoris. Attention \\xe0 #Nada\\u2026', u'Voici les r\\xe9sultats du sondage de la semaine. Pour vous, #Djokovic et #Federer sont les favoris. Attention \\xe0 #Nada\\u2026 https://t.co/3o4snG7TIU', u'ATP - Masters : Novak Djokovic : une saison historique ? #Djokovic #Federer #Tennis #Laver #Nole #Serbia \\u2026 \\u2026 \\u2026 \\u2026 \\u2026 https://t.co/3o4snG7TIU', u'RT @TennisTV: \"It\\'s one of the greatest tournaments we have in the game\". #Federer talks to us at the O2.https://t.co/TNs3FnmvNL https://t.\\u2026', u'@rogerfederer #federer \\U0001f60d\\U0001f917\\U0001f917\\U0001f917\\U0001f917\\U0001f60d ... ya casi https://t.co/QisVLyEgZB']\n"
     ]
    },
    {
     "data": {
      "text/plain": [
       "' Chpater 9 covers StreamAPI for real time twitter updates so we dont have to do this'"
      ]
     },
     "execution_count": 48,
     "metadata": {},
     "output_type": "execute_result"
    }
   ],
   "source": [
    "# Next iteration\n",
    "search_results = twitter_api.search.tweets(**kwargs)\n",
    "statuses = [status['text'] for status in search_results['statuses']]\n",
    "print statuses[0:5]\n",
    "\n",
    "# Use **kwargs for dict key/value pairs or *args for list items\n",
    "\n",
    "# We can see that the statuses changed and these are new updates ones \n",
    "# that do not include the tweets from the previous iteration because\n",
    "# we set max_id to be the latest one from previous search\n",
    "\n",
    "' Chpater 9 covers StreamAPI for real time twitter updates so we dont have to do this'"
   ]
  },
  {
   "cell_type": "markdown",
   "metadata": {},
   "source": [
    "### Analyzing the 140 Characters"
   ]
  },
  {
   "cell_type": "code",
   "execution_count": 119,
   "metadata": {
    "collapsed": false
   },
   "outputs": [
    {
     "name": "stdout",
     "output_type": "stream",
     "text": [
      "[\n",
      " \"https://t.co/5KklpN9lXW Voici les r\\u00e9sultats du sondage de la semaine. Pour vous, #Djokovic et #Federer sont les favoris. Attention \\u00e0 #Nada\\u2026\", \n",
      " \"Voici les r\\u00e9sultats du sondage de la semaine. Pour vous, #Djokovic et #Federer sont les favoris. Attention \\u00e0 #Nada\\u2026 https://t.co/3o4snG7TIU\", \n",
      " \"ATP - Masters : Novak Djokovic : une saison historique ? #Djokovic #Federer #Tennis #Laver #Nole #Serbia \\u2026 \\u2026 \\u2026 \\u2026 \\u2026 https://t.co/3o4snG7TIU\", \n",
      " \"RT @TennisTV: \\\"It's one of the greatest tournaments we have in the game\\\". #Federer talks to us at the O2.https://t.co/TNs3FnmvNL https://t.\\u2026\", \n",
      " \"@rogerfederer #federer \\ud83d\\ude0d\\ud83e\\udd17\\ud83e\\udd17\\ud83e\\udd17\\ud83e\\udd17\\ud83d\\ude0d ... ya casi https://t.co/QisVLyEgZB\"\n",
      "]\n",
      "[\n",
      " \"TennisTV\", \n",
      " \"rogerfederer\", \n",
      " \"SoyFederista\", \n",
      " \"Maria_youRFan\", \n",
      " \"TennisTV\"\n",
      "]\n",
      "[\n",
      " \"Djokovic\", \n",
      " \"Federer\", \n",
      " \"Nada\", \n",
      " \"Djokovic\", \n",
      " \"Federer\"\n",
      "]\n",
      "[\n",
      " \"https://t.co/5KklpN9lXW\", \n",
      " \"Voici\", \n",
      " \"les\", \n",
      " \"r\\u00e9sultats\", \n",
      " \"du\"\n",
      "]\n"
     ]
    }
   ],
   "source": [
    "status_texts = [status['text'] for status in search_results['statuses']]\n",
    "screen_names = [user for status in search_results['statuses'] for user in status['entities']['user_mentions']]\n",
    "hashtags = [hashtags['text'] for status in search_results['statuses'] for hashtags in status['entities']['hashtags']]\n",
    "words = [word for status in search_results['statuses'] for word in status['text'].split()]\n",
    "\n",
    "print json.dumps(status_texts[0:5], indent=1)\n",
    "print json.dumps(screen_names[0:5], indent=1)\n",
    "print json.dumps(hashtags[0:5], indent=1)\n",
    "print json.dumps(words[0:5], indent=1)"
   ]
  },
  {
   "cell_type": "markdown",
   "metadata": {},
   "source": [
    "### Frequency Analysis"
   ]
  },
  {
   "cell_type": "code",
   "execution_count": 122,
   "metadata": {
    "collapsed": false
   },
   "outputs": [
    {
     "name": "stdout",
     "output_type": "stream",
     "text": [
      "[(u'the', 32), (u'#Federer', 20), (u'RT', 15), (u'\\u2026', 13), (u'to', 11), (u'talks', 10), (u'https://t.\\u2026', 10), (u'game\".', 10), (u'tournaments', 10), (u'we', 10)]\n",
      "\n",
      "[(u'Federer', 23), (u'Djokovic', 6), (u'Nadal', 4), (u'Tennis', 3), (u'Nole', 2), (u'Nada', 2), (u'Serbia', 2), (u'Fedal', 2), (u'SwissIndoors', 2), (u'federer', 2)]\n",
      "\n",
      "[(u'TennisTV', 10), (u'Maria_youRFan', 2), (u'rogerfederer', 1), (u'LuisGatTWI', 1), (u'SoyFederista', 1)]\n",
      "\n"
     ]
    }
   ],
   "source": [
    "for item in [words, hashtags, screen_names]:\n",
    "    c = Counter(item)\n",
    "    print c.most_common()[0:10]\n",
    "    print"
   ]
  },
  {
   "cell_type": "markdown",
   "metadata": {},
   "source": [
    "### Lexical Diversity"
   ]
  },
  {
   "cell_type": "code",
   "execution_count": 131,
   "metadata": {
    "collapsed": true
   },
   "outputs": [],
   "source": [
    "def lexical_diversity(tokens):\n",
    "    # returns percentage of unique words in text\n",
    "    return 1.0 * len(set(tokens)) / len(tokens)\n",
    "\n",
    "def average_words(statuses):\n",
    "    # return average number of words per tweet for all the tweets\n",
    "    total_words = sum([len(s.split()) for s in statuses])\n",
    "    return 1.0 * total_words / len(statuses)"
   ]
  },
  {
   "cell_type": "code",
   "execution_count": 133,
   "metadata": {
    "collapsed": false
   },
   "outputs": [
    {
     "name": "stdout",
     "output_type": "stream",
     "text": [
      "0.332584269663\n",
      "0.333333333333\n",
      "0.35\n",
      "17.8\n"
     ]
    }
   ],
   "source": [
    "print lexical_diversity(words)\n",
    "print lexical_diversity(screen_names)\n",
    "print lexical_diversity(hashtags)\n",
    "print average_words(status_texts)"
   ]
  },
  {
   "cell_type": "markdown",
   "metadata": {},
   "source": [
    "### Histograms"
   ]
  },
  {
   "cell_type": "code",
   "execution_count": 211,
   "metadata": {
    "collapsed": false
   },
   "outputs": [
    {
     "data": {
      "text/plain": [
       "<matplotlib.text.Text at 0x10866fe50>"
      ]
     },
     "execution_count": 211,
     "metadata": {},
     "output_type": "execute_result"
    },
    {
     "data": {
      "image/png": "[encoded data removed]",
      "text/plain": [
       "<matplotlib.figure.Figure at 0x107af60d0>"
      ]
     },
     "metadata": {},
     "output_type": "display_data"
    }
   ],
   "source": [
    "word_counts = sorted(Counter(words).values(), reverse=True)\n",
    "plt.loglog(word_counts)\n",
    "plt.ylabel('Freq')\n",
    "plt.xlabel('Word Rank') # position in ordered list of word frequency"
   ]
  },
  {
   "cell_type": "code",
   "execution_count": 215,
   "metadata": {
    "collapsed": false
   },
   "outputs": [
    {
     "data": {
      "image/png": "[encoded data removed]",
      "text/plain": [
       "<matplotlib.figure.Figure at 0x1084a79d0>"
      ]
     },
     "metadata": {},
     "output_type": "display_data"
    },
    {
     "data": {
      "image/png": "[encoded data removed]",
      "text/plain": [
       "<matplotlib.figure.Figure at 0x1092b2250>"
      ]
     },
     "metadata": {},
     "output_type": "display_data"
    },
    {
     "data": {
      "image/png": "[encoded data removed]",
      "text/plain": [
       "<matplotlib.figure.Figure at 0x1092ff450>"
      ]
     },
     "metadata": {},
     "output_type": "display_data"
    },
    {
     "data": {
      "text/plain": [
       "<matplotlib.figure.Figure at 0x107eac710>"
      ]
     },
     "metadata": {},
     "output_type": "display_data"
    }
   ],
   "source": [
    "for label, data in (('Words', words),\n",
    "('Screen Names', screen_names),\n",
    "('Hashtags', hashtags)):\n",
    "    # Build a frequency map for each set of data\n",
    "    # and plot the values\n",
    "    c = Counter(data)\n",
    "    plt.hist(c.values())\n",
    "    # Add a title and y-label ...\n",
    "    plt.title(label)\n",
    "    plt.ylabel(\"Number of items in bin\")\n",
    "    plt.xlabel(\"Bins (number of times an item appeared)\")\n",
    "    # ... and display as a new figure\n",
    "    plt.figure()"
   ]
  }
 ],
 "metadata": {
  "kernelspec": {
   "display_name": "Python 2",
   "language": "python",
   "name": "python2"
  },
  "language_info": {
   "codemirror_mode": {
    "name": "ipython",
    "version": 2
   },
   "file_extension": ".py",
   "mimetype": "text/x-python",
   "name": "python",
   "nbconvert_exporter": "python",
   "pygments_lexer": "ipython2",
   "version": "2.7.10"
  }
 },
 "nbformat": 4,
 "nbformat_minor": 0
}
