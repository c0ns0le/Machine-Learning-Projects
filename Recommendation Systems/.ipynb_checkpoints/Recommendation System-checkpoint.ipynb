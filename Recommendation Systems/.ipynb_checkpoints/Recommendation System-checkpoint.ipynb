{
 "cells": [
  {
   "cell_type": "markdown",
   "metadata": {},
   "source": [
    "### Recommendation Systems\n",
    "    http://www.toptal.com/algorithms/predicting-likes-inside-a-simple-recommendation-engine"
   ]
  },
  {
   "cell_type": "markdown",
   "metadata": {},
   "source": [
    "## Collaboration Filtering\n",
    "    Pros: Bases recommendations based on what other's who are similar to you find interesting\n",
    "    Cons: Cold start - need a large database of users with preferences to made accurate recommendations"
   ]
  },
  {
   "cell_type": "code",
   "execution_count": 67,
   "metadata": {
    "collapsed": true
   },
   "outputs": [],
   "source": [
    "import numpy as np"
   ]
  },
  {
   "cell_type": "code",
   "execution_count": 26,
   "metadata": {
    "collapsed": true
   },
   "outputs": [],
   "source": [
    "movies = ['Dark Knight', 'Superman', 'Avengers', 'Captain America', 'Frozen', 'Smurfs', 'Tangled', 'Finding Nemo']"
   ]
  },
  {
   "cell_type": "code",
   "execution_count": 109,
   "metadata": {
    "collapsed": false
   },
   "outputs": [],
   "source": [
    "users = {'Goku': {'L' : ['Dark Knight', 'Superman', 'Finding Nemo'], \n",
    "                             'D' : ['Smurfs']}, \n",
    "         'Sanjay' : {'L' : ['Dark Knight', 'Superman', 'Finding Nemo'], \n",
    "                               'D' : ['Avengers', 'Captain America', 'Smurfs']}, \n",
    "         'Mohandas' :{'L': ['Avengers', 'Captain America', 'Frozen', 'Tangled', 'Finding Nemo'], \n",
    "                                'D': ['Avengers', 'Smurfs']}}"
   ]
  },
  {
   "cell_type": "markdown",
   "metadata": {},
   "source": [
    "### Implementation"
   ]
  },
  {
   "cell_type": "code",
   "execution_count": 105,
   "metadata": {
    "collapsed": true
   },
   "outputs": [],
   "source": [
    "def similarity(L1, D1, L2, D2):\n",
    "    ''' Calculating the jaccard distance between two users = common items / total unique items '''\n",
    "    \n",
    "    both_like = [item for item in L1 if item in L2] # both like (adds to similarity)\n",
    "    both_hate = [item for item in D1 if item in D2] # both dislike (adds to similarity)\n",
    "    like_hate = [item for item in L1 if item in D2] # One likes what other dislikes (detracts from similarity)\n",
    "    hate_like = [item for item in L2 if item in D1] # Other likes what one likes (detracts from similarity)\n",
    "    \n",
    "    numerator = len(both_like) + len(both_hate) - len(like_hate) - len(hate_like)\n",
    "    unique_items = set(L1 + D1 + L2 + D2)\n",
    "    denominator = len(unique_items)    \n",
    "    \n",
    "    jaccard_distance = numerator/float(denominator)\n",
    "    return jaccard_distance"
   ]
  },
  {
   "cell_type": "code",
   "execution_count": 110,
   "metadata": {
    "collapsed": false
   },
   "outputs": [],
   "source": [
    "def possibility(user, username, movie, users):\n",
    "    ''' Returns likelihood user will like the movie based on other users attitude towards the movie '''\n",
    "    \n",
    "    # Get user similarity with other users who liked the movie\n",
    "    liked = [] # similarity between you and users who liked the movie\n",
    "    hated = [] # similarity between you and users who disliked the movie\n",
    "    liked_count = 0\n",
    "    hated_count = 0\n",
    "    \n",
    "    for user_id in users:\n",
    "        if user_id != username: # don't compare to themselves!\n",
    "            if movie in users[user_id]['L']:    \n",
    "                # adds to possibility of you liking movie\n",
    "                liked.append(similarity(user['L'], user['D'], users[user_id]['L'], users[user_id]['D']))\n",
    "                liked_count += 1\n",
    "            elif movie in users[user_id]['D']:\n",
    "                # detracts to possibility of you liking movie\n",
    "                hated.append(similarity(user['L'], user['D'], users[user_id]['L'], users[user_id]['D']))\n",
    "                hated_count += 1\n",
    "    \n",
    "    likelihood = (np.sum(liked) - np.sum(hated))/float(liked_count + hated_count)\n",
    "    return likelihood"
   ]
  },
  {
   "cell_type": "markdown",
   "metadata": {},
   "source": [
    "### Testing"
   ]
  },
  {
   "cell_type": "code",
   "execution_count": 117,
   "metadata": {
    "collapsed": false
   },
   "outputs": [
    {
     "name": "stdout",
     "output_type": "stream",
     "text": [
      "0.25\n"
     ]
    }
   ],
   "source": [
    "print possibility(users['Goku'], 'Goku', 'Tangled', users) # Will I like Tangled?"
   ]
  },
  {
   "cell_type": "markdown",
   "metadata": {},
   "source": [
    "## Content Based Filtering\n",
    "    Pros:\n",
    "    Cons:"
   ]
  },
  {
   "cell_type": "code",
   "execution_count": null,
   "metadata": {
    "collapsed": true
   },
   "outputs": [],
   "source": []
  },
  {
   "cell_type": "code",
   "execution_count": null,
   "metadata": {
    "collapsed": true
   },
   "outputs": [],
   "source": []
  },
  {
   "cell_type": "code",
   "execution_count": null,
   "metadata": {
    "collapsed": true
   },
   "outputs": [],
   "source": []
  },
  {
   "cell_type": "markdown",
   "metadata": {},
   "source": [
    "## Hybrid Recommendation Systems"
   ]
  },
  {
   "cell_type": "code",
   "execution_count": null,
   "metadata": {
    "collapsed": true
   },
   "outputs": [],
   "source": []
  },
  {
   "cell_type": "code",
   "execution_count": null,
   "metadata": {
    "collapsed": true
   },
   "outputs": [],
   "source": []
  },
  {
   "cell_type": "code",
   "execution_count": null,
   "metadata": {
    "collapsed": true
   },
   "outputs": [],
   "source": []
  },
  {
   "cell_type": "code",
   "execution_count": null,
   "metadata": {
    "collapsed": true
   },
   "outputs": [],
   "source": []
  }
 ],
 "metadata": {
  "kernelspec": {
   "display_name": "Python 2",
   "language": "python",
   "name": "python2"
  },
  "language_info": {
   "codemirror_mode": {
    "name": "ipython",
    "version": 2
   },
   "file_extension": ".py",
   "mimetype": "text/x-python",
   "name": "python",
   "nbconvert_exporter": "python",
   "pygments_lexer": "ipython2",
   "version": "2.7.10"
  }
 },
 "nbformat": 4,
 "nbformat_minor": 0
}
