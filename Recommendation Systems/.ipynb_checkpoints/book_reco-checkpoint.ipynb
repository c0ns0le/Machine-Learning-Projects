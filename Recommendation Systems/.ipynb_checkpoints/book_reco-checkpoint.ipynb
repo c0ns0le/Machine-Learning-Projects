{
 "cells": [
  {
   "cell_type": "code",
   "execution_count": 22,
   "metadata": {
    "collapsed": true
   },
   "outputs": [],
   "source": [
    "import pandas as pd\n",
    "import numpy as np\n",
    "import json"
   ]
  },
  {
   "cell_type": "markdown",
   "metadata": {},
   "source": [
    "###Exploration of dataset"
   ]
  },
  {
   "cell_type": "code",
   "execution_count": 142,
   "metadata": {
    "collapsed": true
   },
   "outputs": [],
   "source": [
    "df = pd.read_csv('data_books.csv', header=None, names=['ReviewerID', 'Book', \"Rating\"])"
   ]
  },
  {
   "cell_type": "code",
   "execution_count": 143,
   "metadata": {
    "collapsed": false
   },
   "outputs": [
    {
     "data": {
      "text/html": [
       "<div>\n",
       "<table border=\"1\" class=\"dataframe\">\n",
       "  <thead>\n",
       "    <tr style=\"text-align: right;\">\n",
       "      <th></th>\n",
       "      <th>ReviewerID</th>\n",
       "      <th>Book</th>\n",
       "      <th>Rating</th>\n",
       "    </tr>\n",
       "  </thead>\n",
       "  <tbody>\n",
       "    <tr>\n",
       "      <th>0</th>\n",
       "      <td>276726</td>\n",
       "      <td>Rites of Passage</td>\n",
       "      <td>5</td>\n",
       "    </tr>\n",
       "    <tr>\n",
       "      <th>1</th>\n",
       "      <td>276729</td>\n",
       "      <td>Help!: Level 1</td>\n",
       "      <td>3</td>\n",
       "    </tr>\n",
       "    <tr>\n",
       "      <th>2</th>\n",
       "      <td>276729</td>\n",
       "      <td>The Amsterdam Connection : Level 4 (Cambridge ...</td>\n",
       "      <td>6</td>\n",
       "    </tr>\n",
       "    <tr>\n",
       "      <th>3</th>\n",
       "      <td>276744</td>\n",
       "      <td>A Painted House</td>\n",
       "      <td>7</td>\n",
       "    </tr>\n",
       "    <tr>\n",
       "      <th>4</th>\n",
       "      <td>276747</td>\n",
       "      <td>Little Altars Everywhere</td>\n",
       "      <td>9</td>\n",
       "    </tr>\n",
       "  </tbody>\n",
       "</table>\n",
       "</div>"
      ],
      "text/plain": [
       "   ReviewerID                                               Book  Rating\n",
       "0      276726                                   Rites of Passage       5\n",
       "1      276729                                     Help!: Level 1       3\n",
       "2      276729  The Amsterdam Connection : Level 4 (Cambridge ...       6\n",
       "3      276744                                    A Painted House       7\n",
       "4      276747                           Little Altars Everywhere       9"
      ]
     },
     "execution_count": 143,
     "metadata": {},
     "output_type": "execute_result"
    }
   ],
   "source": [
    "df.head()"
   ]
  },
  {
   "cell_type": "code",
   "execution_count": 146,
   "metadata": {
    "collapsed": false
   },
   "outputs": [
    {
     "data": {
      "text/plain": [
       "The Lovely Bones: A Novel     707\n",
       "Wild Animus                   581\n",
       "The Da Vinci Code             494\n",
       "The Secret Life of Bees       406\n",
       "The Nanny Diaries: A Novel    393\n",
       "dtype: int64"
      ]
     },
     "execution_count": 146,
     "metadata": {},
     "output_type": "execute_result"
    }
   ],
   "source": [
    "top_books = pd.value_counts(data.Book)\n",
    "top_books.head()"
   ]
  },
  {
   "cell_type": "code",
   "execution_count": 145,
   "metadata": {
    "collapsed": false
   },
   "outputs": [
    {
     "data": {
      "text/plain": [
       "11676     6943\n",
       "98391     5691\n",
       "189835    1899\n",
       "153662    1845\n",
       "23902     1180\n",
       "dtype: int64"
      ]
     },
     "execution_count": 145,
     "metadata": {},
     "output_type": "execute_result"
    }
   ],
   "source": [
    "top_reviewers = pd.value_counts(df.ReviewerID)\n",
    "top_reviewers.head()"
   ]
  },
  {
   "cell_type": "markdown",
   "metadata": {},
   "source": [
    "### Testing with two books"
   ]
  },
  {
   "cell_type": "code",
   "execution_count": 33,
   "metadata": {
    "collapsed": true
   },
   "outputs": [],
   "source": [
    "book_1, book_2 = \"Harry Potter and the Chamber of Secrets (Book 2)\",\"Harry Potter and the Sorcerer's Stone (Harry Potter (Paperback))\""
   ]
  },
  {
   "cell_type": "markdown",
   "metadata": {},
   "source": [
    "### Calculation Correlation"
   ]
  },
  {
   "cell_type": "code",
   "execution_count": 53,
   "metadata": {
    "collapsed": true
   },
   "outputs": [],
   "source": [
    "# To get the correlation between two books, you are comparing ratings for the two books by all the common reviewers\n",
    "from scipy.stats.stats import pearsonr"
   ]
  },
  {
   "cell_type": "code",
   "execution_count": 151,
   "metadata": {
    "collapsed": false
   },
   "outputs": [],
   "source": [
    "def get_corr(book_1, book_2, df):   \n",
    "\n",
    "    # get common reviewers who rated both books\n",
    "    book_1_reviewers = df.ReviewerID[df.Book == book_1]\n",
    "    book_2_reviewers = df.ReviewerID[df.Book == book_2]\n",
    "    common_reviewers = set(book_1_reviewers).intersection(book_2_reviewers)\n",
    "    \n",
    "    \n",
    "    mask_1 = (df.ReviewerID.isin(common_reviewers)) & (df.Book==book_1)\n",
    "    mask_2 = (df.ReviewerID.isin(common_reviewers)) & (df.Book==book_2)\n",
    "    book_1_ratings = df[mask_1].sort('ReviewerID')\n",
    "    book_2_ratings = df[mask_2].sort('ReviewerID')\n",
    "    \n",
    "\n",
    "    # remove mulitiple reviews by same reviewer for same book\n",
    "    book_1_ratings  = book_1_ratings[book_1_ratings.ReviewerID.duplicated()==False].Rating\n",
    "    book_2_ratings  = book_2_ratings[book_2_ratings.ReviewerID.duplicated()==False].Rating\n",
    "\n",
    "    return pearsonr(book_1_ratings, book_2_ratings)[0]"
   ]
  },
  {
   "cell_type": "markdown",
   "metadata": {},
   "source": [
    "### Many books"
   ]
  },
  {
   "cell_type": "code",
   "execution_count": 154,
   "metadata": {
    "collapsed": false
   },
   "outputs": [],
   "source": [
    "# top 10 books\n",
    "top_books_all = pd.DataFrame({'count' : data.groupby([\"Book\"]).size()}).reset_index().sort(['count'],ascending=False)"
   ]
  },
  {
   "cell_type": "code",
   "execution_count": 174,
   "metadata": {
    "collapsed": true
   },
   "outputs": [],
   "source": [
    "top_20 = top_books_all.Book[0:20]"
   ]
  },
  {
   "cell_type": "code",
   "execution_count": 260,
   "metadata": {
    "collapsed": false
   },
   "outputs": [],
   "source": [
    "corr = []\n",
    "for book1 in top_20:\n",
    "    for book2 in top_20:\n",
    "        if book1 != book2:\n",
    "            corr.append([book1, book2, get_corr(book1, book2, df)])"
   ]
  },
  {
   "cell_type": "code",
   "execution_count": 261,
   "metadata": {
    "collapsed": false
   },
   "outputs": [],
   "source": [
    "colNames = [\"Book1\", \"Book2\", \"Correlation\"]\n",
    "correlations = pd.DataFrame(corr, columns=colNames).sort('Correlation', ascending=False)"
   ]
  },
  {
   "cell_type": "code",
   "execution_count": 262,
   "metadata": {
    "collapsed": false
   },
   "outputs": [
    {
     "data": {
      "text/html": [
       "<div>\n",
       "<table border=\"1\" class=\"dataframe\">\n",
       "  <thead>\n",
       "    <tr style=\"text-align: right;\">\n",
       "      <th></th>\n",
       "      <th>Book1</th>\n",
       "      <th>Book2</th>\n",
       "      <th>Correlation</th>\n",
       "    </tr>\n",
       "  </thead>\n",
       "  <tbody>\n",
       "    <tr>\n",
       "      <th>336</th>\n",
       "      <td>Harry Potter and the Prisoner of Azkaban (Book 3)</td>\n",
       "      <td>The Summons</td>\n",
       "      <td>0.963087</td>\n",
       "    </tr>\n",
       "    <tr>\n",
       "      <th>263</th>\n",
       "      <td>The Summons</td>\n",
       "      <td>Harry Potter and the Prisoner of Azkaban (Book 3)</td>\n",
       "      <td>0.963087</td>\n",
       "    </tr>\n",
       "    <tr>\n",
       "      <th>370</th>\n",
       "      <td>The Pilot's Wife : A Novel</td>\n",
       "      <td>Harry Potter and the Chamber of Secrets (Book 2)</td>\n",
       "      <td>0.874818</td>\n",
       "    </tr>\n",
       "    <tr>\n",
       "      <th>189</th>\n",
       "      <td>Harry Potter and the Chamber of Secrets (Book 2)</td>\n",
       "      <td>The Pilot's Wife : A Novel</td>\n",
       "      <td>0.874818</td>\n",
       "    </tr>\n",
       "    <tr>\n",
       "      <th>237</th>\n",
       "      <td>Harry Potter and the Sorcerer's Stone (Harry P...</td>\n",
       "      <td>Harry Potter and the Chamber of Secrets (Book 2)</td>\n",
       "      <td>0.869647</td>\n",
       "    </tr>\n",
       "  </tbody>\n",
       "</table>\n",
       "</div>"
      ],
      "text/plain": [
       "                                                 Book1  \\\n",
       "336  Harry Potter and the Prisoner of Azkaban (Book 3)   \n",
       "263                                        The Summons   \n",
       "370                         The Pilot's Wife : A Novel   \n",
       "189   Harry Potter and the Chamber of Secrets (Book 2)   \n",
       "237  Harry Potter and the Sorcerer's Stone (Harry P...   \n",
       "\n",
       "                                                 Book2  Correlation  \n",
       "336                                        The Summons     0.963087  \n",
       "263  Harry Potter and the Prisoner of Azkaban (Book 3)     0.963087  \n",
       "370   Harry Potter and the Chamber of Secrets (Book 2)     0.874818  \n",
       "189                         The Pilot's Wife : A Novel     0.874818  \n",
       "237   Harry Potter and the Chamber of Secrets (Book 2)     0.869647  "
      ]
     },
     "execution_count": 262,
     "metadata": {},
     "output_type": "execute_result"
    }
   ],
   "source": [
    "correlations.head()"
   ]
  },
  {
   "cell_type": "markdown",
   "metadata": {},
   "source": [
    "### Build Recommendation"
   ]
  },
  {
   "cell_type": "code",
   "execution_count": 294,
   "metadata": {
    "collapsed": false
   },
   "outputs": [],
   "source": [
    "def getRec(book, correlations, books):\n",
    "    recs = []\n",
    "    for b in books:\n",
    "        if b != book:\n",
    "            recs.append([b, float(correlations[(correlations.Book1 == book) & (correlations.Book2 == b)].Correlation)])\n",
    "    recs = sorted(recs, key=lambda x: x[1], reverse=True)\n",
    "    return recs"
   ]
  },
  {
   "cell_type": "code",
   "execution_count": 295,
   "metadata": {
    "collapsed": false
   },
   "outputs": [
    {
     "data": {
      "text/plain": [
       "[[\"The Pilot's Wife : A Novel\", 0.8748177652797063],\n",
       " [\"Harry Potter and the Sorcerer's Stone (Harry Potter (Paperback))\",\n",
       "  0.8696473664533657],\n",
       " ['The Summons', 0.862441481918926],\n",
       " ['The Notebook', 0.7938566201357354],\n",
       " ['Harry Potter and the Prisoner of Azkaban (Book 3)', 0.614027793363417],\n",
       " ['Divine Secrets of the Ya-Ya Sisterhood: A Novel', 0.5446056340098738],\n",
       " ['Snow Falling on Cedars', 0.39270020452103155],\n",
       " ['The Lovely Bones: A Novel', 0.3777910514099126],\n",
       " ['A Painted House', 0.3547874375934496],\n",
       " ['Wild Animus', 0.25045121865651904],\n",
       " ['The Secret Life of Bees', 0.19561519910898786],\n",
       " ['The Red Tent (Bestselling Backlist)', 0.1401379636678026],\n",
       " ['Girl with a Pearl Earring', 0.12570343830542532],\n",
       " ['The Da Vinci Code', 0.10891980142278976],\n",
       " ['The Nanny Diaries: A Novel', 0.003192949577478907],\n",
       " [\"Where the Heart Is (Oprah's Book Club (Paperback))\", -0.0448227403937221],\n",
       " [\"Bridget Jones's Diary\", -0.07572126413865359],\n",
       " ['Angels &amp', -0.1246190951022249],\n",
       " ['Life of Pi', -0.14824986333222023]]"
      ]
     },
     "execution_count": 295,
     "metadata": {},
     "output_type": "execute_result"
    }
   ],
   "source": [
    "getRec(\"Harry Potter and the Chamber of Secrets (Book 2)\", correlations, top_20)"
   ]
  },
  {
   "cell_type": "code",
   "execution_count": null,
   "metadata": {
    "collapsed": true
   },
   "outputs": [],
   "source": []
  }
 ],
 "metadata": {
  "kernelspec": {
   "display_name": "Python 2",
   "language": "python",
   "name": "python2"
  },
  "language_info": {
   "codemirror_mode": {
    "name": "ipython",
    "version": 2
   },
   "file_extension": ".py",
   "mimetype": "text/x-python",
   "name": "python",
   "nbconvert_exporter": "python",
   "pygments_lexer": "ipython2",
   "version": "2.7.10"
  }
 },
 "nbformat": 4,
 "nbformat_minor": 0
}
